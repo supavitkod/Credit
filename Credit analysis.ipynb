{
 "cells": [
  {
   "cell_type": "code",
   "execution_count": 1,
   "metadata": {},
   "outputs": [],
   "source": [
    "import numpy as np\n",
    "import pandas as pd\n",
    "import matplotlib.pyplot as plt\n",
    "import seaborn as sns\n",
    "sns.set()\n",
    "%matplotlib inline"
   ]
  },
  {
   "attachments": {},
   "cell_type": "markdown",
   "metadata": {},
   "source": [
    "### DATA UNDERSTANDING"
   ]
  },
  {
   "cell_type": "code",
   "execution_count": 2,
   "metadata": {},
   "outputs": [
    {
     "name": "stdout",
     "output_type": "stream",
     "text": [
      "        ID  MONTHS_BALANCE STATUS\n",
      "0  5001711               0      X\n",
      "1  5001711              -1      0\n",
      "2  5001711              -2      0\n",
      "3  5001711              -3      0\n",
      "4  5001712               0      C\n",
      "<class 'pandas.core.frame.DataFrame'>\n",
      "RangeIndex: 1048575 entries, 0 to 1048574\n",
      "Data columns (total 3 columns):\n",
      " #   Column          Non-Null Count    Dtype \n",
      "---  ------          --------------    ----- \n",
      " 0   ID              1048575 non-null  int64 \n",
      " 1   MONTHS_BALANCE  1048575 non-null  int64 \n",
      " 2   STATUS          1048575 non-null  object\n",
      "dtypes: int64(2), object(1)\n",
      "memory usage: 24.0+ MB\n",
      "(1048575, 3) None\n"
     ]
    }
   ],
   "source": [
    "## DATA UNDERSTANDING\n",
    "raw_credit = pd.read_csv('C:/Users/user/Desktop/Predicting_credit_cards/credit_record.csv')\n",
    "print(raw_credit.head())\n",
    "print(raw_credit.shape,raw_credit.info())"
   ]
  },
  {
   "cell_type": "code",
   "execution_count": 3,
   "metadata": {},
   "outputs": [
    {
     "name": "stdout",
     "output_type": "stream",
     "text": [
      "        ID CODE_GENDER FLAG_OWN_CAR FLAG_OWN_REALTY  CNT_CHILDREN  \\\n",
      "0  5008804           M            Y               Y             0   \n",
      "1  5008805           M            Y               Y             0   \n",
      "2  5008806           M            Y               Y             0   \n",
      "3  5008808           F            N               Y             0   \n",
      "4  5008809           F            N               Y             0   \n",
      "\n",
      "   AMT_INCOME_TOTAL      NAME_INCOME_TYPE            NAME_EDUCATION_TYPE  \\\n",
      "0          427500.0               Working               Higher education   \n",
      "1          427500.0               Working               Higher education   \n",
      "2          112500.0               Working  Secondary / secondary special   \n",
      "3          270000.0  Commercial associate  Secondary / secondary special   \n",
      "4          270000.0  Commercial associate  Secondary / secondary special   \n",
      "\n",
      "     NAME_FAMILY_STATUS  NAME_HOUSING_TYPE  DAYS_BIRTH  DAYS_EMPLOYED  \\\n",
      "0        Civil marriage   Rented apartment      -12005          -4542   \n",
      "1        Civil marriage   Rented apartment      -12005          -4542   \n",
      "2               Married  House / apartment      -21474          -1134   \n",
      "3  Single / not married  House / apartment      -19110          -3051   \n",
      "4  Single / not married  House / apartment      -19110          -3051   \n",
      "\n",
      "   FLAG_MOBIL  FLAG_WORK_PHONE  FLAG_PHONE  FLAG_EMAIL OCCUPATION_TYPE  \\\n",
      "0           1                1           0           0             NaN   \n",
      "1           1                1           0           0             NaN   \n",
      "2           1                0           0           0  Security staff   \n",
      "3           1                0           1           1     Sales staff   \n",
      "4           1                0           1           1     Sales staff   \n",
      "\n",
      "   CNT_FAM_MEMBERS  \n",
      "0              2.0  \n",
      "1              2.0  \n",
      "2              2.0  \n",
      "3              1.0  \n",
      "4              1.0  \n",
      "(438557, 18)\n"
     ]
    }
   ],
   "source": [
    "raw_application = pd.read_csv('C:/Users/user/Desktop/Predicting_credit_cards/application_record.csv')\n",
    "print(raw_application.head())\n",
    "print(raw_application.shape)"
   ]
  },
  {
   "attachments": {},
   "cell_type": "markdown",
   "metadata": {},
   "source": [
    "\n",
    "ID : Client number\t\n",
    "\n",
    "CODE_GENDER\t: Gender\t\n",
    "\n",
    "FLAG_OWN_CAR : Is there a car\t\n",
    "\n",
    "FLAG_OWN_REALTY\t: Is there a property\t\n",
    "\n",
    "CNT_CHILDREN : Number of children\t\n",
    "\n",
    "AMT_INCOME_TOTAL : Annual income\n",
    "\n",
    "NAME_INCOME_TYPE : Income category\t\n",
    "\n",
    "NAME_EDUCATION_TYPE\t: Education level\t\n",
    "\n",
    "NAME_FAMILY_STATUS\t: Marital status\t\n",
    "\n",
    "NAME_HOUSING_TYPE\t: Way of living\t\n",
    "\n",
    "DAYS_BIRTH\t: Birthday\t,Count backwards from current day (0), -1 means yesterday\n",
    "\n",
    "DAYS_EMPLOYED\t: Start date of employment\t,Count backwards from current day(0). If positive, it means the person currently unemployed.\n",
    "\n",
    "FLAG_MOBIL\t: Is there a mobile phone\t\n",
    "\n",
    "FLAG_WORK_PHONE\t: Is there a work phone\t\n",
    "\n",
    "FLAG_PHONE\t: Is there a phone\t\n",
    "\n",
    "FLAG_EMAIL\t: Is there an email\t\n",
    "\n",
    "OCCUPATION_TYPE\t: Occupation\t\n",
    "\n",
    "CNT_FAM_MEMBERS\t: Family size\t\n",
    "\n",
    "MONTHS_BALANCE\t: Record month\t,The month of the extracted data is the starting point, backwards, 0 is the current month, -1 is the previous month, and so on\n",
    "\n",
    "STATUS\t: Status ,\t0: 1-29 days past due 1: 30-59 days past due 2: 60-89 days overdue 3: 90-119 days overdue 4: 120-149 days overdue 5: Overdue or bad debts, write-offs for more than 150 days C: paid off that month X: No loan for the month"
   ]
  },
  {
   "cell_type": "code",
   "execution_count": 4,
   "metadata": {},
   "outputs": [
    {
     "name": "stdout",
     "output_type": "stream",
     "text": [
      "(777715, 20)\n",
      "             ID CODE_GENDER FLAG_OWN_CAR FLAG_OWN_REALTY  CNT_CHILDREN  \\\n",
      "65836   5022738           F            N               Y             0   \n",
      "461881  5091364           F            N               Y             0   \n",
      "242636  5048342           F            N               N             0   \n",
      "721552  5143138           M            N               N             0   \n",
      "760835  5149764           F            N               Y             1   \n",
      "\n",
      "        AMT_INCOME_TOTAL      NAME_INCOME_TYPE            NAME_EDUCATION_TYPE  \\\n",
      "65836            90000.0             Pensioner  Secondary / secondary special   \n",
      "461881           90000.0             Pensioner  Secondary / secondary special   \n",
      "242636          157500.0               Working               Higher education   \n",
      "721552          112500.0  Commercial associate  Secondary / secondary special   \n",
      "760835          180000.0         State servant  Secondary / secondary special   \n",
      "\n",
      "          NAME_FAMILY_STATUS  NAME_HOUSING_TYPE  DAYS_BIRTH  DAYS_EMPLOYED  \\\n",
      "65836                Married  House / apartment      -21289         365243   \n",
      "461881               Married  House / apartment      -22123         365243   \n",
      "242636               Married  House / apartment      -19657          -1710   \n",
      "721552               Married  House / apartment      -20154          -5706   \n",
      "760835  Single / not married  House / apartment      -13467          -3850   \n",
      "\n",
      "        FLAG_MOBIL  FLAG_WORK_PHONE  FLAG_PHONE  FLAG_EMAIL OCCUPATION_TYPE  \\\n",
      "65836            1                0           0           0             NaN   \n",
      "461881           1                0           0           1             NaN   \n",
      "242636           1                0           0           0     Sales staff   \n",
      "721552           1                1           0           0         Drivers   \n",
      "760835           1                0           1           0  Medicine staff   \n",
      "\n",
      "        CNT_FAM_MEMBERS  MONTHS_BALANCE STATUS  \n",
      "65836               2.0              -9      C  \n",
      "461881              2.0             -14      C  \n",
      "242636              2.0             -13      C  \n",
      "721552              2.0               0      C  \n",
      "760835              2.0             -39      X  \n"
     ]
    }
   ],
   "source": [
    "df = raw_application.merge(raw_credit, on='ID', how='inner')\n",
    "print(df.shape)\n",
    "print(df.sample(5))"
   ]
  },
  {
   "cell_type": "code",
   "execution_count": 5,
   "metadata": {},
   "outputs": [
    {
     "data": {
      "text/html": [
       "<div>\n",
       "<style scoped>\n",
       "    .dataframe tbody tr th:only-of-type {\n",
       "        vertical-align: middle;\n",
       "    }\n",
       "\n",
       "    .dataframe tbody tr th {\n",
       "        vertical-align: top;\n",
       "    }\n",
       "\n",
       "    .dataframe thead th {\n",
       "        text-align: right;\n",
       "    }\n",
       "</style>\n",
       "<table border=\"1\" class=\"dataframe\">\n",
       "  <thead>\n",
       "    <tr style=\"text-align: right;\">\n",
       "      <th></th>\n",
       "      <th>ID</th>\n",
       "      <th>CODE_GENDER</th>\n",
       "      <th>FLAG_OWN_CAR</th>\n",
       "      <th>FLAG_OWN_REALTY</th>\n",
       "      <th>CNT_CHILDREN</th>\n",
       "      <th>AMT_INCOME_TOTAL</th>\n",
       "      <th>NAME_INCOME_TYPE</th>\n",
       "      <th>NAME_EDUCATION_TYPE</th>\n",
       "      <th>NAME_FAMILY_STATUS</th>\n",
       "      <th>NAME_HOUSING_TYPE</th>\n",
       "      <th>DAYS_BIRTH</th>\n",
       "      <th>DAYS_EMPLOYED</th>\n",
       "      <th>FLAG_MOBIL</th>\n",
       "      <th>FLAG_WORK_PHONE</th>\n",
       "      <th>FLAG_PHONE</th>\n",
       "      <th>FLAG_EMAIL</th>\n",
       "      <th>OCCUPATION_TYPE</th>\n",
       "      <th>CNT_FAM_MEMBERS</th>\n",
       "      <th>MONTHS_BALANCE</th>\n",
       "      <th>STATUS</th>\n",
       "    </tr>\n",
       "  </thead>\n",
       "  <tbody>\n",
       "    <tr>\n",
       "      <th>count</th>\n",
       "      <td>7.777150e+05</td>\n",
       "      <td>777715</td>\n",
       "      <td>777715</td>\n",
       "      <td>777715</td>\n",
       "      <td>777715.000000</td>\n",
       "      <td>7.777150e+05</td>\n",
       "      <td>777715</td>\n",
       "      <td>777715</td>\n",
       "      <td>777715</td>\n",
       "      <td>777715</td>\n",
       "      <td>777715.000000</td>\n",
       "      <td>777715.000000</td>\n",
       "      <td>777715.0</td>\n",
       "      <td>777715.000000</td>\n",
       "      <td>777715.000000</td>\n",
       "      <td>777715.000000</td>\n",
       "      <td>537667</td>\n",
       "      <td>777715.000000</td>\n",
       "      <td>777715.000000</td>\n",
       "      <td>777715</td>\n",
       "    </tr>\n",
       "    <tr>\n",
       "      <th>unique</th>\n",
       "      <td>NaN</td>\n",
       "      <td>2</td>\n",
       "      <td>2</td>\n",
       "      <td>2</td>\n",
       "      <td>NaN</td>\n",
       "      <td>NaN</td>\n",
       "      <td>5</td>\n",
       "      <td>5</td>\n",
       "      <td>5</td>\n",
       "      <td>6</td>\n",
       "      <td>NaN</td>\n",
       "      <td>NaN</td>\n",
       "      <td>NaN</td>\n",
       "      <td>NaN</td>\n",
       "      <td>NaN</td>\n",
       "      <td>NaN</td>\n",
       "      <td>18</td>\n",
       "      <td>NaN</td>\n",
       "      <td>NaN</td>\n",
       "      <td>8</td>\n",
       "    </tr>\n",
       "    <tr>\n",
       "      <th>top</th>\n",
       "      <td>NaN</td>\n",
       "      <td>F</td>\n",
       "      <td>N</td>\n",
       "      <td>Y</td>\n",
       "      <td>NaN</td>\n",
       "      <td>NaN</td>\n",
       "      <td>Working</td>\n",
       "      <td>Secondary / secondary special</td>\n",
       "      <td>Married</td>\n",
       "      <td>House / apartment</td>\n",
       "      <td>NaN</td>\n",
       "      <td>NaN</td>\n",
       "      <td>NaN</td>\n",
       "      <td>NaN</td>\n",
       "      <td>NaN</td>\n",
       "      <td>NaN</td>\n",
       "      <td>Laborers</td>\n",
       "      <td>NaN</td>\n",
       "      <td>NaN</td>\n",
       "      <td>C</td>\n",
       "    </tr>\n",
       "    <tr>\n",
       "      <th>freq</th>\n",
       "      <td>NaN</td>\n",
       "      <td>518851</td>\n",
       "      <td>473355</td>\n",
       "      <td>512948</td>\n",
       "      <td>NaN</td>\n",
       "      <td>NaN</td>\n",
       "      <td>400164</td>\n",
       "      <td>524261</td>\n",
       "      <td>546619</td>\n",
       "      <td>697151</td>\n",
       "      <td>NaN</td>\n",
       "      <td>NaN</td>\n",
       "      <td>NaN</td>\n",
       "      <td>NaN</td>\n",
       "      <td>NaN</td>\n",
       "      <td>NaN</td>\n",
       "      <td>131572</td>\n",
       "      <td>NaN</td>\n",
       "      <td>NaN</td>\n",
       "      <td>329536</td>\n",
       "    </tr>\n",
       "    <tr>\n",
       "      <th>mean</th>\n",
       "      <td>5.078743e+06</td>\n",
       "      <td>NaN</td>\n",
       "      <td>NaN</td>\n",
       "      <td>NaN</td>\n",
       "      <td>0.428082</td>\n",
       "      <td>1.885348e+05</td>\n",
       "      <td>NaN</td>\n",
       "      <td>NaN</td>\n",
       "      <td>NaN</td>\n",
       "      <td>NaN</td>\n",
       "      <td>-16124.937046</td>\n",
       "      <td>57775.825016</td>\n",
       "      <td>1.0</td>\n",
       "      <td>0.231818</td>\n",
       "      <td>0.300965</td>\n",
       "      <td>0.091675</td>\n",
       "      <td>NaN</td>\n",
       "      <td>2.208837</td>\n",
       "      <td>-19.373564</td>\n",
       "      <td>NaN</td>\n",
       "    </tr>\n",
       "    <tr>\n",
       "      <th>std</th>\n",
       "      <td>4.180442e+04</td>\n",
       "      <td>NaN</td>\n",
       "      <td>NaN</td>\n",
       "      <td>NaN</td>\n",
       "      <td>0.745755</td>\n",
       "      <td>1.016225e+05</td>\n",
       "      <td>NaN</td>\n",
       "      <td>NaN</td>\n",
       "      <td>NaN</td>\n",
       "      <td>NaN</td>\n",
       "      <td>4104.304018</td>\n",
       "      <td>136471.735391</td>\n",
       "      <td>0.0</td>\n",
       "      <td>0.421993</td>\n",
       "      <td>0.458678</td>\n",
       "      <td>0.288567</td>\n",
       "      <td>NaN</td>\n",
       "      <td>0.907380</td>\n",
       "      <td>14.082208</td>\n",
       "      <td>NaN</td>\n",
       "    </tr>\n",
       "    <tr>\n",
       "      <th>min</th>\n",
       "      <td>5.008804e+06</td>\n",
       "      <td>NaN</td>\n",
       "      <td>NaN</td>\n",
       "      <td>NaN</td>\n",
       "      <td>0.000000</td>\n",
       "      <td>2.700000e+04</td>\n",
       "      <td>NaN</td>\n",
       "      <td>NaN</td>\n",
       "      <td>NaN</td>\n",
       "      <td>NaN</td>\n",
       "      <td>-25152.000000</td>\n",
       "      <td>-15713.000000</td>\n",
       "      <td>1.0</td>\n",
       "      <td>0.000000</td>\n",
       "      <td>0.000000</td>\n",
       "      <td>0.000000</td>\n",
       "      <td>NaN</td>\n",
       "      <td>1.000000</td>\n",
       "      <td>-60.000000</td>\n",
       "      <td>NaN</td>\n",
       "    </tr>\n",
       "    <tr>\n",
       "      <th>25%</th>\n",
       "      <td>5.044568e+06</td>\n",
       "      <td>NaN</td>\n",
       "      <td>NaN</td>\n",
       "      <td>NaN</td>\n",
       "      <td>0.000000</td>\n",
       "      <td>1.215000e+05</td>\n",
       "      <td>NaN</td>\n",
       "      <td>NaN</td>\n",
       "      <td>NaN</td>\n",
       "      <td>NaN</td>\n",
       "      <td>-19453.000000</td>\n",
       "      <td>-3292.000000</td>\n",
       "      <td>1.0</td>\n",
       "      <td>0.000000</td>\n",
       "      <td>0.000000</td>\n",
       "      <td>0.000000</td>\n",
       "      <td>NaN</td>\n",
       "      <td>2.000000</td>\n",
       "      <td>-29.000000</td>\n",
       "      <td>NaN</td>\n",
       "    </tr>\n",
       "    <tr>\n",
       "      <th>50%</th>\n",
       "      <td>5.069530e+06</td>\n",
       "      <td>NaN</td>\n",
       "      <td>NaN</td>\n",
       "      <td>NaN</td>\n",
       "      <td>0.000000</td>\n",
       "      <td>1.620000e+05</td>\n",
       "      <td>NaN</td>\n",
       "      <td>NaN</td>\n",
       "      <td>NaN</td>\n",
       "      <td>NaN</td>\n",
       "      <td>-15760.000000</td>\n",
       "      <td>-1682.000000</td>\n",
       "      <td>1.0</td>\n",
       "      <td>0.000000</td>\n",
       "      <td>0.000000</td>\n",
       "      <td>0.000000</td>\n",
       "      <td>NaN</td>\n",
       "      <td>2.000000</td>\n",
       "      <td>-17.000000</td>\n",
       "      <td>NaN</td>\n",
       "    </tr>\n",
       "    <tr>\n",
       "      <th>75%</th>\n",
       "      <td>5.115551e+06</td>\n",
       "      <td>NaN</td>\n",
       "      <td>NaN</td>\n",
       "      <td>NaN</td>\n",
       "      <td>1.000000</td>\n",
       "      <td>2.250000e+05</td>\n",
       "      <td>NaN</td>\n",
       "      <td>NaN</td>\n",
       "      <td>NaN</td>\n",
       "      <td>NaN</td>\n",
       "      <td>-12716.000000</td>\n",
       "      <td>-431.000000</td>\n",
       "      <td>1.0</td>\n",
       "      <td>0.000000</td>\n",
       "      <td>1.000000</td>\n",
       "      <td>0.000000</td>\n",
       "      <td>NaN</td>\n",
       "      <td>3.000000</td>\n",
       "      <td>-8.000000</td>\n",
       "      <td>NaN</td>\n",
       "    </tr>\n",
       "    <tr>\n",
       "      <th>max</th>\n",
       "      <td>5.150487e+06</td>\n",
       "      <td>NaN</td>\n",
       "      <td>NaN</td>\n",
       "      <td>NaN</td>\n",
       "      <td>19.000000</td>\n",
       "      <td>1.575000e+06</td>\n",
       "      <td>NaN</td>\n",
       "      <td>NaN</td>\n",
       "      <td>NaN</td>\n",
       "      <td>NaN</td>\n",
       "      <td>-7489.000000</td>\n",
       "      <td>365243.000000</td>\n",
       "      <td>1.0</td>\n",
       "      <td>1.000000</td>\n",
       "      <td>1.000000</td>\n",
       "      <td>1.000000</td>\n",
       "      <td>NaN</td>\n",
       "      <td>20.000000</td>\n",
       "      <td>0.000000</td>\n",
       "      <td>NaN</td>\n",
       "    </tr>\n",
       "  </tbody>\n",
       "</table>\n",
       "</div>"
      ],
      "text/plain": [
       "                  ID CODE_GENDER FLAG_OWN_CAR FLAG_OWN_REALTY   CNT_CHILDREN  \\\n",
       "count   7.777150e+05      777715       777715          777715  777715.000000   \n",
       "unique           NaN           2            2               2            NaN   \n",
       "top              NaN           F            N               Y            NaN   \n",
       "freq             NaN      518851       473355          512948            NaN   \n",
       "mean    5.078743e+06         NaN          NaN             NaN       0.428082   \n",
       "std     4.180442e+04         NaN          NaN             NaN       0.745755   \n",
       "min     5.008804e+06         NaN          NaN             NaN       0.000000   \n",
       "25%     5.044568e+06         NaN          NaN             NaN       0.000000   \n",
       "50%     5.069530e+06         NaN          NaN             NaN       0.000000   \n",
       "75%     5.115551e+06         NaN          NaN             NaN       1.000000   \n",
       "max     5.150487e+06         NaN          NaN             NaN      19.000000   \n",
       "\n",
       "        AMT_INCOME_TOTAL NAME_INCOME_TYPE            NAME_EDUCATION_TYPE  \\\n",
       "count       7.777150e+05           777715                         777715   \n",
       "unique               NaN                5                              5   \n",
       "top                  NaN          Working  Secondary / secondary special   \n",
       "freq                 NaN           400164                         524261   \n",
       "mean        1.885348e+05              NaN                            NaN   \n",
       "std         1.016225e+05              NaN                            NaN   \n",
       "min         2.700000e+04              NaN                            NaN   \n",
       "25%         1.215000e+05              NaN                            NaN   \n",
       "50%         1.620000e+05              NaN                            NaN   \n",
       "75%         2.250000e+05              NaN                            NaN   \n",
       "max         1.575000e+06              NaN                            NaN   \n",
       "\n",
       "       NAME_FAMILY_STATUS  NAME_HOUSING_TYPE     DAYS_BIRTH  DAYS_EMPLOYED  \\\n",
       "count              777715             777715  777715.000000  777715.000000   \n",
       "unique                  5                  6            NaN            NaN   \n",
       "top               Married  House / apartment            NaN            NaN   \n",
       "freq               546619             697151            NaN            NaN   \n",
       "mean                  NaN                NaN  -16124.937046   57775.825016   \n",
       "std                   NaN                NaN    4104.304018  136471.735391   \n",
       "min                   NaN                NaN  -25152.000000  -15713.000000   \n",
       "25%                   NaN                NaN  -19453.000000   -3292.000000   \n",
       "50%                   NaN                NaN  -15760.000000   -1682.000000   \n",
       "75%                   NaN                NaN  -12716.000000    -431.000000   \n",
       "max                   NaN                NaN   -7489.000000  365243.000000   \n",
       "\n",
       "        FLAG_MOBIL  FLAG_WORK_PHONE     FLAG_PHONE     FLAG_EMAIL  \\\n",
       "count     777715.0    777715.000000  777715.000000  777715.000000   \n",
       "unique         NaN              NaN            NaN            NaN   \n",
       "top            NaN              NaN            NaN            NaN   \n",
       "freq           NaN              NaN            NaN            NaN   \n",
       "mean           1.0         0.231818       0.300965       0.091675   \n",
       "std            0.0         0.421993       0.458678       0.288567   \n",
       "min            1.0         0.000000       0.000000       0.000000   \n",
       "25%            1.0         0.000000       0.000000       0.000000   \n",
       "50%            1.0         0.000000       0.000000       0.000000   \n",
       "75%            1.0         0.000000       1.000000       0.000000   \n",
       "max            1.0         1.000000       1.000000       1.000000   \n",
       "\n",
       "       OCCUPATION_TYPE  CNT_FAM_MEMBERS  MONTHS_BALANCE  STATUS  \n",
       "count           537667    777715.000000   777715.000000  777715  \n",
       "unique              18              NaN             NaN       8  \n",
       "top           Laborers              NaN             NaN       C  \n",
       "freq            131572              NaN             NaN  329536  \n",
       "mean               NaN         2.208837      -19.373564     NaN  \n",
       "std                NaN         0.907380       14.082208     NaN  \n",
       "min                NaN         1.000000      -60.000000     NaN  \n",
       "25%                NaN         2.000000      -29.000000     NaN  \n",
       "50%                NaN         2.000000      -17.000000     NaN  \n",
       "75%                NaN         3.000000       -8.000000     NaN  \n",
       "max                NaN        20.000000        0.000000     NaN  "
      ]
     },
     "execution_count": 5,
     "metadata": {},
     "output_type": "execute_result"
    }
   ],
   "source": [
    "df.describe(include='all')"
   ]
  },
  {
   "attachments": {},
   "cell_type": "markdown",
   "metadata": {},
   "source": [
    "### DATA CLEANING"
   ]
  },
  {
   "cell_type": "code",
   "execution_count": 6,
   "metadata": {},
   "outputs": [
    {
     "data": {
      "text/plain": [
       "ID                          0\n",
       "CODE_GENDER                 0\n",
       "FLAG_OWN_CAR                0\n",
       "FLAG_OWN_REALTY             0\n",
       "CNT_CHILDREN                0\n",
       "AMT_INCOME_TOTAL            0\n",
       "NAME_INCOME_TYPE            0\n",
       "NAME_EDUCATION_TYPE         0\n",
       "NAME_FAMILY_STATUS          0\n",
       "NAME_HOUSING_TYPE           0\n",
       "DAYS_BIRTH                  0\n",
       "DAYS_EMPLOYED               0\n",
       "FLAG_MOBIL                  0\n",
       "FLAG_WORK_PHONE             0\n",
       "FLAG_PHONE                  0\n",
       "FLAG_EMAIL                  0\n",
       "OCCUPATION_TYPE        240048\n",
       "CNT_FAM_MEMBERS             0\n",
       "MONTHS_BALANCE              0\n",
       "STATUS                      0\n",
       "dtype: int64"
      ]
     },
     "execution_count": 6,
     "metadata": {},
     "output_type": "execute_result"
    }
   ],
   "source": [
    "### cleaning\n",
    "df.isnull().sum()"
   ]
  },
  {
   "cell_type": "code",
   "execution_count": 7,
   "metadata": {},
   "outputs": [
    {
     "name": "stdout",
     "output_type": "stream",
     "text": [
      "18\n",
      "19\n"
     ]
    }
   ],
   "source": [
    "print(df['OCCUPATION_TYPE'].nunique())\n",
    "df.fillna('Others',axis=1,inplace=True)\n",
    "print(df['OCCUPATION_TYPE'].nunique())"
   ]
  },
  {
   "cell_type": "code",
   "execution_count": 8,
   "metadata": {},
   "outputs": [
    {
     "name": "stdout",
     "output_type": "stream",
     "text": [
      "ID                     0\n",
      "CODE_GENDER            0\n",
      "FLAG_OWN_CAR           0\n",
      "FLAG_OWN_REALTY        0\n",
      "CNT_CHILDREN           0\n",
      "AMT_INCOME_TOTAL       0\n",
      "NAME_INCOME_TYPE       0\n",
      "NAME_EDUCATION_TYPE    0\n",
      "NAME_FAMILY_STATUS     0\n",
      "NAME_HOUSING_TYPE      0\n",
      "DAYS_BIRTH             0\n",
      "DAYS_EMPLOYED          0\n",
      "FLAG_MOBIL             0\n",
      "FLAG_WORK_PHONE        0\n",
      "FLAG_PHONE             0\n",
      "FLAG_EMAIL             0\n",
      "OCCUPATION_TYPE        0\n",
      "CNT_FAM_MEMBERS        0\n",
      "MONTHS_BALANCE         0\n",
      "STATUS                 0\n",
      "dtype: int64\n"
     ]
    },
    {
     "data": {
      "text/plain": [
       "(777715, 20)"
      ]
     },
     "execution_count": 8,
     "metadata": {},
     "output_type": "execute_result"
    }
   ],
   "source": [
    "print(df.isnull().sum())\n",
    "df.shape"
   ]
  },
  {
   "cell_type": "code",
   "execution_count": 9,
   "metadata": {},
   "outputs": [
    {
     "data": {
      "text/plain": [
       "0"
      ]
     },
     "execution_count": 9,
     "metadata": {},
     "output_type": "execute_result"
    }
   ],
   "source": [
    "df.duplicated().sum()"
   ]
  },
  {
   "cell_type": "code",
   "execution_count": 10,
   "metadata": {},
   "outputs": [
    {
     "data": {
      "text/html": [
       "<div>\n",
       "<style scoped>\n",
       "    .dataframe tbody tr th:only-of-type {\n",
       "        vertical-align: middle;\n",
       "    }\n",
       "\n",
       "    .dataframe tbody tr th {\n",
       "        vertical-align: top;\n",
       "    }\n",
       "\n",
       "    .dataframe thead th {\n",
       "        text-align: right;\n",
       "    }\n",
       "</style>\n",
       "<table border=\"1\" class=\"dataframe\">\n",
       "  <thead>\n",
       "    <tr style=\"text-align: right;\">\n",
       "      <th></th>\n",
       "      <th>ID</th>\n",
       "      <th>CODE_GENDER</th>\n",
       "      <th>FLAG_OWN_CAR</th>\n",
       "      <th>FLAG_OWN_REALTY</th>\n",
       "      <th>CNT_CHILDREN</th>\n",
       "      <th>AMT_INCOME_TOTAL</th>\n",
       "      <th>NAME_INCOME_TYPE</th>\n",
       "      <th>NAME_EDUCATION_TYPE</th>\n",
       "      <th>NAME_FAMILY_STATUS</th>\n",
       "      <th>NAME_HOUSING_TYPE</th>\n",
       "      <th>DAYS_BIRTH</th>\n",
       "      <th>DAYS_EMPLOYED</th>\n",
       "      <th>FLAG_MOBIL</th>\n",
       "      <th>FLAG_WORK_PHONE</th>\n",
       "      <th>FLAG_PHONE</th>\n",
       "      <th>FLAG_EMAIL</th>\n",
       "      <th>OCCUPATION_TYPE</th>\n",
       "      <th>CNT_FAM_MEMBERS</th>\n",
       "      <th>MONTHS_BALANCE</th>\n",
       "      <th>STATUS</th>\n",
       "    </tr>\n",
       "  </thead>\n",
       "  <tbody>\n",
       "    <tr>\n",
       "      <th>0</th>\n",
       "      <td>5008804</td>\n",
       "      <td>M</td>\n",
       "      <td>Y</td>\n",
       "      <td>Y</td>\n",
       "      <td>0</td>\n",
       "      <td>427500.0</td>\n",
       "      <td>Working</td>\n",
       "      <td>Higher education</td>\n",
       "      <td>Civil marriage</td>\n",
       "      <td>Rented apartment</td>\n",
       "      <td>-12005</td>\n",
       "      <td>-4542</td>\n",
       "      <td>1</td>\n",
       "      <td>1</td>\n",
       "      <td>0</td>\n",
       "      <td>0</td>\n",
       "      <td>Others</td>\n",
       "      <td>2.0</td>\n",
       "      <td>0</td>\n",
       "      <td>C</td>\n",
       "    </tr>\n",
       "    <tr>\n",
       "      <th>1</th>\n",
       "      <td>5008804</td>\n",
       "      <td>M</td>\n",
       "      <td>Y</td>\n",
       "      <td>Y</td>\n",
       "      <td>0</td>\n",
       "      <td>427500.0</td>\n",
       "      <td>Working</td>\n",
       "      <td>Higher education</td>\n",
       "      <td>Civil marriage</td>\n",
       "      <td>Rented apartment</td>\n",
       "      <td>-12005</td>\n",
       "      <td>-4542</td>\n",
       "      <td>1</td>\n",
       "      <td>1</td>\n",
       "      <td>0</td>\n",
       "      <td>0</td>\n",
       "      <td>Others</td>\n",
       "      <td>2.0</td>\n",
       "      <td>-1</td>\n",
       "      <td>C</td>\n",
       "    </tr>\n",
       "    <tr>\n",
       "      <th>2</th>\n",
       "      <td>5008804</td>\n",
       "      <td>M</td>\n",
       "      <td>Y</td>\n",
       "      <td>Y</td>\n",
       "      <td>0</td>\n",
       "      <td>427500.0</td>\n",
       "      <td>Working</td>\n",
       "      <td>Higher education</td>\n",
       "      <td>Civil marriage</td>\n",
       "      <td>Rented apartment</td>\n",
       "      <td>-12005</td>\n",
       "      <td>-4542</td>\n",
       "      <td>1</td>\n",
       "      <td>1</td>\n",
       "      <td>0</td>\n",
       "      <td>0</td>\n",
       "      <td>Others</td>\n",
       "      <td>2.0</td>\n",
       "      <td>-2</td>\n",
       "      <td>C</td>\n",
       "    </tr>\n",
       "    <tr>\n",
       "      <th>3</th>\n",
       "      <td>5008804</td>\n",
       "      <td>M</td>\n",
       "      <td>Y</td>\n",
       "      <td>Y</td>\n",
       "      <td>0</td>\n",
       "      <td>427500.0</td>\n",
       "      <td>Working</td>\n",
       "      <td>Higher education</td>\n",
       "      <td>Civil marriage</td>\n",
       "      <td>Rented apartment</td>\n",
       "      <td>-12005</td>\n",
       "      <td>-4542</td>\n",
       "      <td>1</td>\n",
       "      <td>1</td>\n",
       "      <td>0</td>\n",
       "      <td>0</td>\n",
       "      <td>Others</td>\n",
       "      <td>2.0</td>\n",
       "      <td>-3</td>\n",
       "      <td>C</td>\n",
       "    </tr>\n",
       "    <tr>\n",
       "      <th>4</th>\n",
       "      <td>5008804</td>\n",
       "      <td>M</td>\n",
       "      <td>Y</td>\n",
       "      <td>Y</td>\n",
       "      <td>0</td>\n",
       "      <td>427500.0</td>\n",
       "      <td>Working</td>\n",
       "      <td>Higher education</td>\n",
       "      <td>Civil marriage</td>\n",
       "      <td>Rented apartment</td>\n",
       "      <td>-12005</td>\n",
       "      <td>-4542</td>\n",
       "      <td>1</td>\n",
       "      <td>1</td>\n",
       "      <td>0</td>\n",
       "      <td>0</td>\n",
       "      <td>Others</td>\n",
       "      <td>2.0</td>\n",
       "      <td>-4</td>\n",
       "      <td>C</td>\n",
       "    </tr>\n",
       "    <tr>\n",
       "      <th>...</th>\n",
       "      <td>...</td>\n",
       "      <td>...</td>\n",
       "      <td>...</td>\n",
       "      <td>...</td>\n",
       "      <td>...</td>\n",
       "      <td>...</td>\n",
       "      <td>...</td>\n",
       "      <td>...</td>\n",
       "      <td>...</td>\n",
       "      <td>...</td>\n",
       "      <td>...</td>\n",
       "      <td>...</td>\n",
       "      <td>...</td>\n",
       "      <td>...</td>\n",
       "      <td>...</td>\n",
       "      <td>...</td>\n",
       "      <td>...</td>\n",
       "      <td>...</td>\n",
       "      <td>...</td>\n",
       "      <td>...</td>\n",
       "    </tr>\n",
       "    <tr>\n",
       "      <th>777710</th>\n",
       "      <td>5150337</td>\n",
       "      <td>M</td>\n",
       "      <td>N</td>\n",
       "      <td>Y</td>\n",
       "      <td>0</td>\n",
       "      <td>112500.0</td>\n",
       "      <td>Working</td>\n",
       "      <td>Secondary / secondary special</td>\n",
       "      <td>Single / not married</td>\n",
       "      <td>Rented apartment</td>\n",
       "      <td>-9188</td>\n",
       "      <td>-1193</td>\n",
       "      <td>1</td>\n",
       "      <td>0</td>\n",
       "      <td>0</td>\n",
       "      <td>0</td>\n",
       "      <td>Laborers</td>\n",
       "      <td>1.0</td>\n",
       "      <td>-9</td>\n",
       "      <td>0</td>\n",
       "    </tr>\n",
       "    <tr>\n",
       "      <th>777711</th>\n",
       "      <td>5150337</td>\n",
       "      <td>M</td>\n",
       "      <td>N</td>\n",
       "      <td>Y</td>\n",
       "      <td>0</td>\n",
       "      <td>112500.0</td>\n",
       "      <td>Working</td>\n",
       "      <td>Secondary / secondary special</td>\n",
       "      <td>Single / not married</td>\n",
       "      <td>Rented apartment</td>\n",
       "      <td>-9188</td>\n",
       "      <td>-1193</td>\n",
       "      <td>1</td>\n",
       "      <td>0</td>\n",
       "      <td>0</td>\n",
       "      <td>0</td>\n",
       "      <td>Laborers</td>\n",
       "      <td>1.0</td>\n",
       "      <td>-10</td>\n",
       "      <td>2</td>\n",
       "    </tr>\n",
       "    <tr>\n",
       "      <th>777712</th>\n",
       "      <td>5150337</td>\n",
       "      <td>M</td>\n",
       "      <td>N</td>\n",
       "      <td>Y</td>\n",
       "      <td>0</td>\n",
       "      <td>112500.0</td>\n",
       "      <td>Working</td>\n",
       "      <td>Secondary / secondary special</td>\n",
       "      <td>Single / not married</td>\n",
       "      <td>Rented apartment</td>\n",
       "      <td>-9188</td>\n",
       "      <td>-1193</td>\n",
       "      <td>1</td>\n",
       "      <td>0</td>\n",
       "      <td>0</td>\n",
       "      <td>0</td>\n",
       "      <td>Laborers</td>\n",
       "      <td>1.0</td>\n",
       "      <td>-11</td>\n",
       "      <td>1</td>\n",
       "    </tr>\n",
       "    <tr>\n",
       "      <th>777713</th>\n",
       "      <td>5150337</td>\n",
       "      <td>M</td>\n",
       "      <td>N</td>\n",
       "      <td>Y</td>\n",
       "      <td>0</td>\n",
       "      <td>112500.0</td>\n",
       "      <td>Working</td>\n",
       "      <td>Secondary / secondary special</td>\n",
       "      <td>Single / not married</td>\n",
       "      <td>Rented apartment</td>\n",
       "      <td>-9188</td>\n",
       "      <td>-1193</td>\n",
       "      <td>1</td>\n",
       "      <td>0</td>\n",
       "      <td>0</td>\n",
       "      <td>0</td>\n",
       "      <td>Laborers</td>\n",
       "      <td>1.0</td>\n",
       "      <td>-12</td>\n",
       "      <td>0</td>\n",
       "    </tr>\n",
       "    <tr>\n",
       "      <th>777714</th>\n",
       "      <td>5150337</td>\n",
       "      <td>M</td>\n",
       "      <td>N</td>\n",
       "      <td>Y</td>\n",
       "      <td>0</td>\n",
       "      <td>112500.0</td>\n",
       "      <td>Working</td>\n",
       "      <td>Secondary / secondary special</td>\n",
       "      <td>Single / not married</td>\n",
       "      <td>Rented apartment</td>\n",
       "      <td>-9188</td>\n",
       "      <td>-1193</td>\n",
       "      <td>1</td>\n",
       "      <td>0</td>\n",
       "      <td>0</td>\n",
       "      <td>0</td>\n",
       "      <td>Laborers</td>\n",
       "      <td>1.0</td>\n",
       "      <td>-13</td>\n",
       "      <td>0</td>\n",
       "    </tr>\n",
       "  </tbody>\n",
       "</table>\n",
       "<p>777715 rows × 20 columns</p>\n",
       "</div>"
      ],
      "text/plain": [
       "             ID CODE_GENDER FLAG_OWN_CAR FLAG_OWN_REALTY  CNT_CHILDREN  \\\n",
       "0       5008804           M            Y               Y             0   \n",
       "1       5008804           M            Y               Y             0   \n",
       "2       5008804           M            Y               Y             0   \n",
       "3       5008804           M            Y               Y             0   \n",
       "4       5008804           M            Y               Y             0   \n",
       "...         ...         ...          ...             ...           ...   \n",
       "777710  5150337           M            N               Y             0   \n",
       "777711  5150337           M            N               Y             0   \n",
       "777712  5150337           M            N               Y             0   \n",
       "777713  5150337           M            N               Y             0   \n",
       "777714  5150337           M            N               Y             0   \n",
       "\n",
       "        AMT_INCOME_TOTAL NAME_INCOME_TYPE            NAME_EDUCATION_TYPE  \\\n",
       "0               427500.0          Working               Higher education   \n",
       "1               427500.0          Working               Higher education   \n",
       "2               427500.0          Working               Higher education   \n",
       "3               427500.0          Working               Higher education   \n",
       "4               427500.0          Working               Higher education   \n",
       "...                  ...              ...                            ...   \n",
       "777710          112500.0          Working  Secondary / secondary special   \n",
       "777711          112500.0          Working  Secondary / secondary special   \n",
       "777712          112500.0          Working  Secondary / secondary special   \n",
       "777713          112500.0          Working  Secondary / secondary special   \n",
       "777714          112500.0          Working  Secondary / secondary special   \n",
       "\n",
       "          NAME_FAMILY_STATUS NAME_HOUSING_TYPE  DAYS_BIRTH  DAYS_EMPLOYED  \\\n",
       "0             Civil marriage  Rented apartment      -12005          -4542   \n",
       "1             Civil marriage  Rented apartment      -12005          -4542   \n",
       "2             Civil marriage  Rented apartment      -12005          -4542   \n",
       "3             Civil marriage  Rented apartment      -12005          -4542   \n",
       "4             Civil marriage  Rented apartment      -12005          -4542   \n",
       "...                      ...               ...         ...            ...   \n",
       "777710  Single / not married  Rented apartment       -9188          -1193   \n",
       "777711  Single / not married  Rented apartment       -9188          -1193   \n",
       "777712  Single / not married  Rented apartment       -9188          -1193   \n",
       "777713  Single / not married  Rented apartment       -9188          -1193   \n",
       "777714  Single / not married  Rented apartment       -9188          -1193   \n",
       "\n",
       "        FLAG_MOBIL  FLAG_WORK_PHONE  FLAG_PHONE  FLAG_EMAIL OCCUPATION_TYPE  \\\n",
       "0                1                1           0           0          Others   \n",
       "1                1                1           0           0          Others   \n",
       "2                1                1           0           0          Others   \n",
       "3                1                1           0           0          Others   \n",
       "4                1                1           0           0          Others   \n",
       "...            ...              ...         ...         ...             ...   \n",
       "777710           1                0           0           0        Laborers   \n",
       "777711           1                0           0           0        Laborers   \n",
       "777712           1                0           0           0        Laborers   \n",
       "777713           1                0           0           0        Laborers   \n",
       "777714           1                0           0           0        Laborers   \n",
       "\n",
       "        CNT_FAM_MEMBERS  MONTHS_BALANCE STATUS  \n",
       "0                   2.0               0      C  \n",
       "1                   2.0              -1      C  \n",
       "2                   2.0              -2      C  \n",
       "3                   2.0              -3      C  \n",
       "4                   2.0              -4      C  \n",
       "...                 ...             ...    ...  \n",
       "777710              1.0              -9      0  \n",
       "777711              1.0             -10      2  \n",
       "777712              1.0             -11      1  \n",
       "777713              1.0             -12      0  \n",
       "777714              1.0             -13      0  \n",
       "\n",
       "[777715 rows x 20 columns]"
      ]
     },
     "execution_count": 10,
     "metadata": {},
     "output_type": "execute_result"
    }
   ],
   "source": [
    "df"
   ]
  },
  {
   "cell_type": "code",
   "execution_count": 11,
   "metadata": {},
   "outputs": [],
   "source": [
    "### Drop unnecessary data\n",
    "df.drop(['FLAG_MOBIL'],axis=1,inplace=True)\n",
    "# Min and Max same number no use\n"
   ]
  },
  {
   "cell_type": "markdown",
   "metadata": {},
   "source": [
    "### EDA"
   ]
  },
  {
   "cell_type": "code",
   "execution_count": 12,
   "metadata": {},
   "outputs": [],
   "source": [
    "df = df.rename(columns={'CODE_GENDER': 'Gender', 'FLAG_OWN_CAR': 'Own_car', \n",
    "                               'FLAG_OWN_REALTY':'Own_property','CNT_CHILDREN':'Nbchildren',\n",
    "                               'AMT_INCOME_TOTAL':'Total_income_per_year','NAME_INCOME_TYPE':'Income_type',\n",
    "                               'NAME_EDUCATION_TYPE':'Education_level','NAME_FAMILY_STATUS':'Marital_status',\n",
    "                               'NAME_HOUSING_TYPE':'Way_of_living','FLAG_WORK_PHONE':'Workphone',\n",
    "                               'FLAG_PHONE':'Phone','FLAG_EMAIL':'Email','OCCUPATION_TYPE':'Occupation',\n",
    "                               'CNT_FAM_MEMBERS':'Nbfamily_member'})"
   ]
  },
  {
   "cell_type": "code",
   "execution_count": 13,
   "metadata": {},
   "outputs": [
    {
     "name": "stdout",
     "output_type": "stream",
     "text": [
      "Index(['ID', 'Nbchildren', 'Total_income_per_year', 'DAYS_BIRTH',\n",
      "       'DAYS_EMPLOYED', 'Workphone', 'Phone', 'Email', 'Nbfamily_member',\n",
      "       'MONTHS_BALANCE'],\n",
      "      dtype='object')\n"
     ]
    }
   ],
   "source": [
    "### DEALING WITH NUMERICAL COLUMNS\n",
    "numeric_cols = df.select_dtypes(include='number')\n",
    "print(numeric_cols.columns)"
   ]
  },
  {
   "cell_type": "code",
   "execution_count": 14,
   "metadata": {},
   "outputs": [
    {
     "name": "stdout",
     "output_type": "stream",
     "text": [
      "0     540639\n",
      "1     155638\n",
      "2      70399\n",
      "3       9328\n",
      "4       1224\n",
      "5        324\n",
      "14       111\n",
      "7         46\n",
      "19         6\n",
      "Name: Nbchildren, dtype: int64\n",
      "\n"
     ]
    },
    {
     "data": {
      "image/png": "[encoded data removed]",
      "text/plain": [
       "<Figure size 432x288 with 1 Axes>"
      ]
     },
     "metadata": {
      "needs_background": "light"
     },
     "output_type": "display_data"
    }
   ],
   "source": [
    "sns.boxplot(x=df[\"Nbchildren\"]) ### correlated with number of family_member\n",
    "print(df['Nbchildren'].value_counts().sort_values(ascending=False))\n",
    "print()\n"
   ]
  },
  {
   "cell_type": "code",
   "execution_count": 15,
   "metadata": {},
   "outputs": [],
   "source": [
    "number_Children_outlier = df['Nbchildren'].quantile(0.99)\n",
    "df = df[df['Nbchildren'] < number_Children_outlier]"
   ]
  },
  {
   "cell_type": "code",
   "execution_count": 16,
   "metadata": {},
   "outputs": [
    {
     "name": "stdout",
     "output_type": "stream",
     "text": [
      "135000.0    88953\n",
      "180000.0    67183\n",
      "157500.0    61718\n",
      "225000.0    61127\n",
      "112500.0    60577\n",
      "            ...  \n",
      "51750.0         7\n",
      "89550.0         5\n",
      "594000.0        4\n",
      "151200.0        2\n",
      "134995.5        2\n",
      "Name: Total_income_per_year, Length: 262, dtype: int64\n",
      "\n"
     ]
    },
    {
     "data": {
      "image/png": "[encoded data removed]",
      "text/plain": [
       "<Figure size 360x360 with 1 Axes>"
      ]
     },
     "metadata": {
      "needs_background": "light"
     },
     "output_type": "display_data"
    }
   ],
   "source": [
    "sns.displot(df, x=\"Total_income_per_year\")\n",
    "print(df['Total_income_per_year'].value_counts().sort_values(ascending=False))\n",
    "print()"
   ]
  },
  {
   "cell_type": "code",
   "execution_count": 17,
   "metadata": {},
   "outputs": [],
   "source": [
    "Total_income_per_year_outlier = df['Total_income_per_year'].quantile(0.99)\n",
    "df = df[df['Total_income_per_year'] < Total_income_per_year_outlier]"
   ]
  },
  {
   "cell_type": "code",
   "execution_count": 18,
   "metadata": {},
   "outputs": [
    {
     "name": "stdout",
     "output_type": "stream",
     "text": [
      "2.0    420140\n",
      "1.0    140078\n",
      "3.0    132697\n",
      "4.0     65973\n",
      "Name: Nbfamily_member, dtype: int64\n"
     ]
    },
    {
     "data": {
      "image/png": "[encoded data removed]",
      "text/plain": [
       "<Figure size 432x288 with 1 Axes>"
      ]
     },
     "metadata": {
      "needs_background": "light"
     },
     "output_type": "display_data"
    }
   ],
   "source": [
    "sns.boxplot(x=df[\"Nbfamily_member\"])\n",
    "print(df['Nbfamily_member'].value_counts().sort_values(ascending=False))\n",
    "\n",
    "### might have high correlation with Number of children"
   ]
  },
  {
   "cell_type": "code",
   "execution_count": 19,
   "metadata": {},
   "outputs": [
    {
     "data": {
      "text/plain": [
       "<seaborn.axisgrid.FacetGrid at 0x1e000c50760>"
      ]
     },
     "execution_count": 19,
     "metadata": {},
     "output_type": "execute_result"
    },
    {
     "data": {
      "image/png": "[encoded data removed]",
      "text/plain": [
       "<Figure size 360x360 with 1 Axes>"
      ]
     },
     "metadata": {
      "needs_background": "light"
     },
     "output_type": "display_data"
    }
   ],
   "source": [
    "sns.displot(df,x='DAYS_BIRTH')\n"
   ]
  },
  {
   "cell_type": "code",
   "execution_count": 20,
   "metadata": {},
   "outputs": [
    {
     "data": {
      "text/plain": [
       "<AxesSubplot:xlabel='DAYS_EMPLOYED'>"
      ]
     },
     "execution_count": 20,
     "metadata": {},
     "output_type": "execute_result"
    },
    {
     "data": {
      "image/png": "[encoded data removed]",
      "text/plain": [
       "<Figure size 432x288 with 1 Axes>"
      ]
     },
     "metadata": {
      "needs_background": "light"
     },
     "output_type": "display_data"
    }
   ],
   "source": [
    "sns.boxplot(x=df['DAYS_EMPLOYED'])\n"
   ]
  },
  {
   "cell_type": "code",
   "execution_count": 21,
   "metadata": {},
   "outputs": [
    {
     "data": {
      "text/plain": [
       "0        -12005\n",
       "1        -12005\n",
       "2        -12005\n",
       "3        -12005\n",
       "4        -12005\n",
       "          ...  \n",
       "777710    -9188\n",
       "777711    -9188\n",
       "777712    -9188\n",
       "777713    -9188\n",
       "777714    -9188\n",
       "Name: DAYS_BIRTH, Length: 758888, dtype: int64"
      ]
     },
     "execution_count": 21,
     "metadata": {},
     "output_type": "execute_result"
    }
   ],
   "source": [
    "df['DAYS_BIRTH']"
   ]
  },
  {
   "cell_type": "code",
   "execution_count": 22,
   "metadata": {},
   "outputs": [],
   "source": [
    "## DEALING WITH NUMERICAL COLUMNS\n",
    "def Categorical_countplot(features):\n",
    "    for categorical_columns in features:\n",
    "        plt.figure(figsize=(12, 12))\n",
    "        ax=sns.countplot(y=df[categorical_columns], hue='Gender' , data=df)\n",
    "        plt.legend(loc='best')\n",
    "        total = len(df[categorical_columns])\n",
    "        for p in ax.patches:\n",
    "            percentage = '{:.1f}%'.format(100 * p.get_width()/total)\n",
    "            x = p.get_x() + p.get_width() + 0.02\n",
    "            y = p.get_y() + p.get_height()/2\n",
    "            ax.annotate(percentage, (x, y))\n",
    "    plt.show()"
   ]
  },
  {
   "cell_type": "code",
   "execution_count": 23,
   "metadata": {},
   "outputs": [
    {
     "name": "stdout",
     "output_type": "stream",
     "text": [
      "Index(['Gender', 'Own_car', 'Own_property', 'Income_type', 'Education_level',\n",
      "       'Marital_status', 'Way_of_living', 'Occupation', 'STATUS'],\n",
      "      dtype='object')\n"
     ]
    }
   ],
   "source": [
    "categorical_columns = df.select_dtypes(include=['object', 'category'])\n",
    "print(categorical_columns.columns)"
   ]
  },
  {
   "cell_type": "code",
   "execution_count": 24,
   "metadata": {},
   "outputs": [
    {
     "data": {
      "image/png": "[encoded data removed]",
      "text/plain": [
       "<Figure size 864x864 with 1 Axes>"
      ]
     },
     "metadata": {
      "needs_background": "light"
     },
     "output_type": "display_data"
    },
    {
     "data": {
      "image/png": "[encoded data removed]",
      "text/plain": [
       "<Figure size 864x864 with 1 Axes>"
      ]
     },
     "metadata": {
      "needs_background": "light"
     },
     "output_type": "display_data"
    },
    {
     "data": {
      "image/png": "[encoded data removed]",
      "text/plain": [
       "<Figure size 864x864 with 1 Axes>"
      ]
     },
     "metadata": {
      "needs_background": "light"
     },
     "output_type": "display_data"
    },
    {
     "data": {
      "image/png": "[encoded data removed]",
      "text/plain": [
       "<Figure size 864x864 with 1 Axes>"
      ]
     },
     "metadata": {
      "needs_background": "light"
     },
     "output_type": "display_data"
    },
    {
     "data": {
      "image/png": "[encoded data removed]",
      "text/plain": [
       "<Figure size 864x864 with 1 Axes>"
      ]
     },
     "metadata": {
      "needs_background": "light"
     },
     "output_type": "display_data"
    },
    {
     "data": {
      "image/png": "[encoded data removed]",
      "text/plain": [
       "<Figure size 864x864 with 1 Axes>"
      ]
     },
     "metadata": {
      "needs_background": "light"
     },
     "output_type": "display_data"
    },
    {
     "data": {
      "image/png": "[encoded data removed]",
      "text/plain": [
       "<Figure size 864x864 with 1 Axes>"
      ]
     },
     "metadata": {
      "needs_background": "light"
     },
     "output_type": "display_data"
    },
    {
     "data": {
      "image/png": "[encoded data removed]",
      "text/plain": [
       "<Figure size 864x864 with 1 Axes>"
      ]
     },
     "metadata": {
      "needs_background": "light"
     },
     "output_type": "display_data"
    },
    {
     "data": {
      "image/png": "[encoded data removed]",
      "text/plain": [
       "<Figure size 864x864 with 1 Axes>"
      ]
     },
     "metadata": {
      "needs_background": "light"
     },
     "output_type": "display_data"
    }
   ],
   "source": [
    "Categorical_countplot(['Gender','Own_car', 'Own_property', 'Income_type', 'Education_level',\n",
    "       'Marital_status', 'Way_of_living', 'Occupation', 'STATUS'])"
   ]
  },
  {
   "attachments": {},
   "cell_type": "markdown",
   "metadata": {},
   "source": [
    "### Feature engineering"
   ]
  },
  {
   "cell_type": "code",
   "execution_count": 25,
   "metadata": {},
   "outputs": [],
   "source": [
    "### Feature engineering\n"
   ]
  },
  {
   "cell_type": "code",
   "execution_count": 26,
   "metadata": {},
   "outputs": [],
   "source": [
    "def convert_day_to_year(days):\n",
    "    days = round(days/-365,0)\n",
    "    return days"
   ]
  },
  {
   "cell_type": "code",
   "execution_count": 27,
   "metadata": {},
   "outputs": [
    {
     "data": {
      "text/html": [
       "<div>\n",
       "<style scoped>\n",
       "    .dataframe tbody tr th:only-of-type {\n",
       "        vertical-align: middle;\n",
       "    }\n",
       "\n",
       "    .dataframe tbody tr th {\n",
       "        vertical-align: top;\n",
       "    }\n",
       "\n",
       "    .dataframe thead th {\n",
       "        text-align: right;\n",
       "    }\n",
       "</style>\n",
       "<table border=\"1\" class=\"dataframe\">\n",
       "  <thead>\n",
       "    <tr style=\"text-align: right;\">\n",
       "      <th></th>\n",
       "      <th>ID</th>\n",
       "      <th>Gender</th>\n",
       "      <th>Own_car</th>\n",
       "      <th>Own_property</th>\n",
       "      <th>Nbchildren</th>\n",
       "      <th>Total_income_per_year</th>\n",
       "      <th>Income_type</th>\n",
       "      <th>Education_level</th>\n",
       "      <th>Marital_status</th>\n",
       "      <th>Way_of_living</th>\n",
       "      <th>DAYS_BIRTH</th>\n",
       "      <th>DAYS_EMPLOYED</th>\n",
       "      <th>Workphone</th>\n",
       "      <th>Phone</th>\n",
       "      <th>Email</th>\n",
       "      <th>Occupation</th>\n",
       "      <th>Nbfamily_member</th>\n",
       "      <th>MONTHS_BALANCE</th>\n",
       "      <th>STATUS</th>\n",
       "    </tr>\n",
       "  </thead>\n",
       "  <tbody>\n",
       "    <tr>\n",
       "      <th>0</th>\n",
       "      <td>5008804</td>\n",
       "      <td>M</td>\n",
       "      <td>Y</td>\n",
       "      <td>Y</td>\n",
       "      <td>0</td>\n",
       "      <td>427500.0</td>\n",
       "      <td>Working</td>\n",
       "      <td>Higher education</td>\n",
       "      <td>Civil marriage</td>\n",
       "      <td>Rented apartment</td>\n",
       "      <td>-12005</td>\n",
       "      <td>-4542</td>\n",
       "      <td>1</td>\n",
       "      <td>0</td>\n",
       "      <td>0</td>\n",
       "      <td>Others</td>\n",
       "      <td>2.0</td>\n",
       "      <td>0</td>\n",
       "      <td>C</td>\n",
       "    </tr>\n",
       "    <tr>\n",
       "      <th>1</th>\n",
       "      <td>5008804</td>\n",
       "      <td>M</td>\n",
       "      <td>Y</td>\n",
       "      <td>Y</td>\n",
       "      <td>0</td>\n",
       "      <td>427500.0</td>\n",
       "      <td>Working</td>\n",
       "      <td>Higher education</td>\n",
       "      <td>Civil marriage</td>\n",
       "      <td>Rented apartment</td>\n",
       "      <td>-12005</td>\n",
       "      <td>-4542</td>\n",
       "      <td>1</td>\n",
       "      <td>0</td>\n",
       "      <td>0</td>\n",
       "      <td>Others</td>\n",
       "      <td>2.0</td>\n",
       "      <td>-1</td>\n",
       "      <td>C</td>\n",
       "    </tr>\n",
       "    <tr>\n",
       "      <th>2</th>\n",
       "      <td>5008804</td>\n",
       "      <td>M</td>\n",
       "      <td>Y</td>\n",
       "      <td>Y</td>\n",
       "      <td>0</td>\n",
       "      <td>427500.0</td>\n",
       "      <td>Working</td>\n",
       "      <td>Higher education</td>\n",
       "      <td>Civil marriage</td>\n",
       "      <td>Rented apartment</td>\n",
       "      <td>-12005</td>\n",
       "      <td>-4542</td>\n",
       "      <td>1</td>\n",
       "      <td>0</td>\n",
       "      <td>0</td>\n",
       "      <td>Others</td>\n",
       "      <td>2.0</td>\n",
       "      <td>-2</td>\n",
       "      <td>C</td>\n",
       "    </tr>\n",
       "    <tr>\n",
       "      <th>3</th>\n",
       "      <td>5008804</td>\n",
       "      <td>M</td>\n",
       "      <td>Y</td>\n",
       "      <td>Y</td>\n",
       "      <td>0</td>\n",
       "      <td>427500.0</td>\n",
       "      <td>Working</td>\n",
       "      <td>Higher education</td>\n",
       "      <td>Civil marriage</td>\n",
       "      <td>Rented apartment</td>\n",
       "      <td>-12005</td>\n",
       "      <td>-4542</td>\n",
       "      <td>1</td>\n",
       "      <td>0</td>\n",
       "      <td>0</td>\n",
       "      <td>Others</td>\n",
       "      <td>2.0</td>\n",
       "      <td>-3</td>\n",
       "      <td>C</td>\n",
       "    </tr>\n",
       "    <tr>\n",
       "      <th>4</th>\n",
       "      <td>5008804</td>\n",
       "      <td>M</td>\n",
       "      <td>Y</td>\n",
       "      <td>Y</td>\n",
       "      <td>0</td>\n",
       "      <td>427500.0</td>\n",
       "      <td>Working</td>\n",
       "      <td>Higher education</td>\n",
       "      <td>Civil marriage</td>\n",
       "      <td>Rented apartment</td>\n",
       "      <td>-12005</td>\n",
       "      <td>-4542</td>\n",
       "      <td>1</td>\n",
       "      <td>0</td>\n",
       "      <td>0</td>\n",
       "      <td>Others</td>\n",
       "      <td>2.0</td>\n",
       "      <td>-4</td>\n",
       "      <td>C</td>\n",
       "    </tr>\n",
       "    <tr>\n",
       "      <th>...</th>\n",
       "      <td>...</td>\n",
       "      <td>...</td>\n",
       "      <td>...</td>\n",
       "      <td>...</td>\n",
       "      <td>...</td>\n",
       "      <td>...</td>\n",
       "      <td>...</td>\n",
       "      <td>...</td>\n",
       "      <td>...</td>\n",
       "      <td>...</td>\n",
       "      <td>...</td>\n",
       "      <td>...</td>\n",
       "      <td>...</td>\n",
       "      <td>...</td>\n",
       "      <td>...</td>\n",
       "      <td>...</td>\n",
       "      <td>...</td>\n",
       "      <td>...</td>\n",
       "      <td>...</td>\n",
       "    </tr>\n",
       "    <tr>\n",
       "      <th>777710</th>\n",
       "      <td>5150337</td>\n",
       "      <td>M</td>\n",
       "      <td>N</td>\n",
       "      <td>Y</td>\n",
       "      <td>0</td>\n",
       "      <td>112500.0</td>\n",
       "      <td>Working</td>\n",
       "      <td>Secondary / secondary special</td>\n",
       "      <td>Single / not married</td>\n",
       "      <td>Rented apartment</td>\n",
       "      <td>-9188</td>\n",
       "      <td>-1193</td>\n",
       "      <td>0</td>\n",
       "      <td>0</td>\n",
       "      <td>0</td>\n",
       "      <td>Laborers</td>\n",
       "      <td>1.0</td>\n",
       "      <td>-9</td>\n",
       "      <td>0</td>\n",
       "    </tr>\n",
       "    <tr>\n",
       "      <th>777711</th>\n",
       "      <td>5150337</td>\n",
       "      <td>M</td>\n",
       "      <td>N</td>\n",
       "      <td>Y</td>\n",
       "      <td>0</td>\n",
       "      <td>112500.0</td>\n",
       "      <td>Working</td>\n",
       "      <td>Secondary / secondary special</td>\n",
       "      <td>Single / not married</td>\n",
       "      <td>Rented apartment</td>\n",
       "      <td>-9188</td>\n",
       "      <td>-1193</td>\n",
       "      <td>0</td>\n",
       "      <td>0</td>\n",
       "      <td>0</td>\n",
       "      <td>Laborers</td>\n",
       "      <td>1.0</td>\n",
       "      <td>-10</td>\n",
       "      <td>2</td>\n",
       "    </tr>\n",
       "    <tr>\n",
       "      <th>777712</th>\n",
       "      <td>5150337</td>\n",
       "      <td>M</td>\n",
       "      <td>N</td>\n",
       "      <td>Y</td>\n",
       "      <td>0</td>\n",
       "      <td>112500.0</td>\n",
       "      <td>Working</td>\n",
       "      <td>Secondary / secondary special</td>\n",
       "      <td>Single / not married</td>\n",
       "      <td>Rented apartment</td>\n",
       "      <td>-9188</td>\n",
       "      <td>-1193</td>\n",
       "      <td>0</td>\n",
       "      <td>0</td>\n",
       "      <td>0</td>\n",
       "      <td>Laborers</td>\n",
       "      <td>1.0</td>\n",
       "      <td>-11</td>\n",
       "      <td>1</td>\n",
       "    </tr>\n",
       "    <tr>\n",
       "      <th>777713</th>\n",
       "      <td>5150337</td>\n",
       "      <td>M</td>\n",
       "      <td>N</td>\n",
       "      <td>Y</td>\n",
       "      <td>0</td>\n",
       "      <td>112500.0</td>\n",
       "      <td>Working</td>\n",
       "      <td>Secondary / secondary special</td>\n",
       "      <td>Single / not married</td>\n",
       "      <td>Rented apartment</td>\n",
       "      <td>-9188</td>\n",
       "      <td>-1193</td>\n",
       "      <td>0</td>\n",
       "      <td>0</td>\n",
       "      <td>0</td>\n",
       "      <td>Laborers</td>\n",
       "      <td>1.0</td>\n",
       "      <td>-12</td>\n",
       "      <td>0</td>\n",
       "    </tr>\n",
       "    <tr>\n",
       "      <th>777714</th>\n",
       "      <td>5150337</td>\n",
       "      <td>M</td>\n",
       "      <td>N</td>\n",
       "      <td>Y</td>\n",
       "      <td>0</td>\n",
       "      <td>112500.0</td>\n",
       "      <td>Working</td>\n",
       "      <td>Secondary / secondary special</td>\n",
       "      <td>Single / not married</td>\n",
       "      <td>Rented apartment</td>\n",
       "      <td>-9188</td>\n",
       "      <td>-1193</td>\n",
       "      <td>0</td>\n",
       "      <td>0</td>\n",
       "      <td>0</td>\n",
       "      <td>Laborers</td>\n",
       "      <td>1.0</td>\n",
       "      <td>-13</td>\n",
       "      <td>0</td>\n",
       "    </tr>\n",
       "  </tbody>\n",
       "</table>\n",
       "<p>758888 rows × 19 columns</p>\n",
       "</div>"
      ],
      "text/plain": [
       "             ID Gender Own_car Own_property  Nbchildren  \\\n",
       "0       5008804      M       Y            Y           0   \n",
       "1       5008804      M       Y            Y           0   \n",
       "2       5008804      M       Y            Y           0   \n",
       "3       5008804      M       Y            Y           0   \n",
       "4       5008804      M       Y            Y           0   \n",
       "...         ...    ...     ...          ...         ...   \n",
       "777710  5150337      M       N            Y           0   \n",
       "777711  5150337      M       N            Y           0   \n",
       "777712  5150337      M       N            Y           0   \n",
       "777713  5150337      M       N            Y           0   \n",
       "777714  5150337      M       N            Y           0   \n",
       "\n",
       "        Total_income_per_year Income_type                Education_level  \\\n",
       "0                    427500.0     Working               Higher education   \n",
       "1                    427500.0     Working               Higher education   \n",
       "2                    427500.0     Working               Higher education   \n",
       "3                    427500.0     Working               Higher education   \n",
       "4                    427500.0     Working               Higher education   \n",
       "...                       ...         ...                            ...   \n",
       "777710               112500.0     Working  Secondary / secondary special   \n",
       "777711               112500.0     Working  Secondary / secondary special   \n",
       "777712               112500.0     Working  Secondary / secondary special   \n",
       "777713               112500.0     Working  Secondary / secondary special   \n",
       "777714               112500.0     Working  Secondary / secondary special   \n",
       "\n",
       "              Marital_status     Way_of_living  DAYS_BIRTH  DAYS_EMPLOYED  \\\n",
       "0             Civil marriage  Rented apartment      -12005          -4542   \n",
       "1             Civil marriage  Rented apartment      -12005          -4542   \n",
       "2             Civil marriage  Rented apartment      -12005          -4542   \n",
       "3             Civil marriage  Rented apartment      -12005          -4542   \n",
       "4             Civil marriage  Rented apartment      -12005          -4542   \n",
       "...                      ...               ...         ...            ...   \n",
       "777710  Single / not married  Rented apartment       -9188          -1193   \n",
       "777711  Single / not married  Rented apartment       -9188          -1193   \n",
       "777712  Single / not married  Rented apartment       -9188          -1193   \n",
       "777713  Single / not married  Rented apartment       -9188          -1193   \n",
       "777714  Single / not married  Rented apartment       -9188          -1193   \n",
       "\n",
       "        Workphone  Phone  Email Occupation  Nbfamily_member  MONTHS_BALANCE  \\\n",
       "0               1      0      0     Others              2.0               0   \n",
       "1               1      0      0     Others              2.0              -1   \n",
       "2               1      0      0     Others              2.0              -2   \n",
       "3               1      0      0     Others              2.0              -3   \n",
       "4               1      0      0     Others              2.0              -4   \n",
       "...           ...    ...    ...        ...              ...             ...   \n",
       "777710          0      0      0   Laborers              1.0              -9   \n",
       "777711          0      0      0   Laborers              1.0             -10   \n",
       "777712          0      0      0   Laborers              1.0             -11   \n",
       "777713          0      0      0   Laborers              1.0             -12   \n",
       "777714          0      0      0   Laborers              1.0             -13   \n",
       "\n",
       "       STATUS  \n",
       "0           C  \n",
       "1           C  \n",
       "2           C  \n",
       "3           C  \n",
       "4           C  \n",
       "...       ...  \n",
       "777710      0  \n",
       "777711      2  \n",
       "777712      1  \n",
       "777713      0  \n",
       "777714      0  \n",
       "\n",
       "[758888 rows x 19 columns]"
      ]
     },
     "execution_count": 27,
     "metadata": {},
     "output_type": "execute_result"
    }
   ],
   "source": [
    "df"
   ]
  },
  {
   "cell_type": "code",
   "execution_count": 28,
   "metadata": {},
   "outputs": [],
   "source": [
    "df['Age'] = df['DAYS_BIRTH'].apply(convert_day_to_year)\n",
    "df['Age'] = df['Age'].astype(int)\n",
    "df['Experience'] = df['DAYS_EMPLOYED'].apply(convert_day_to_year)\n",
    "df['Total_income_lifetime_employed'] = df['Experience'] * df['Total_income_per_year']\n",
    "df['Working_year_proportion'] = df['Experience'] / df['Age']\n",
    "\n",
    "df.drop('DAYS_BIRTH',axis=1,inplace=True)\n",
    "df.drop('DAYS_EMPLOYED',axis=1,inplace=True)"
   ]
  },
  {
   "cell_type": "code",
   "execution_count": 29,
   "metadata": {},
   "outputs": [
    {
     "data": {
      "text/plain": [
       "<AxesSubplot:>"
      ]
     },
     "execution_count": 29,
     "metadata": {},
     "output_type": "execute_result"
    },
    {
     "data": {
      "image/png": "[encoded data removed]",
      "text/plain": [
       "<Figure size 432x288 with 1 Axes>"
      ]
     },
     "metadata": {
      "needs_background": "light"
     },
     "output_type": "display_data"
    }
   ],
   "source": [
    "(df['Experience'] > 0).value_counts().plot(kind=\"bar\")\n",
    "### True is number of people who unemployment"
   ]
  },
  {
   "cell_type": "code",
   "execution_count": 30,
   "metadata": {},
   "outputs": [],
   "source": [
    "def employment_status(date):\n",
    "    # Determine the employment status based on the duration\n",
    "    if date < 0:\n",
    "        return \"Unemployed\"\n",
    "    else:\n",
    "        return \"Employment\""
   ]
  },
  {
   "cell_type": "code",
   "execution_count": 31,
   "metadata": {},
   "outputs": [],
   "source": [
    "df['Employment_status'] = df['Experience'].apply(employment_status)"
   ]
  },
  {
   "cell_type": "code",
   "execution_count": 32,
   "metadata": {},
   "outputs": [
    {
     "data": {
      "text/plain": [
       "<AxesSubplot:ylabel='Employment_status'>"
      ]
     },
     "execution_count": 32,
     "metadata": {},
     "output_type": "execute_result"
    },
    {
     "data": {
      "image/png": "[encoded data removed]",
      "text/plain": [
       "<Figure size 432x288 with 1 Axes>"
      ]
     },
     "metadata": {},
     "output_type": "display_data"
    }
   ],
   "source": [
    "df['Employment_status'].value_counts().plot(kind=\"pie\",autopct=\"%.1f%%\",labels=[\"Unemploy\",\"Employ\"])\n",
    "## 83.2 percent of people are unemployed while only 16.8 percent are employed"
   ]
  },
  {
   "cell_type": "code",
   "execution_count": 33,
   "metadata": {},
   "outputs": [],
   "source": [
    "df['STATUS'].replace({'C': 6, 'X' : 7}, inplace=True)\n",
    "df['STATUS']=df['STATUS'].astype(int)"
   ]
  },
  {
   "cell_type": "code",
   "execution_count": 34,
   "metadata": {},
   "outputs": [],
   "source": [
    "def Risk_evaluation(score):\n",
    "    risk_range = [2,3,4,5]\n",
    "    if score in risk_range:\n",
    "        return '1'\n",
    "    else:\n",
    "        return '0'\n",
    "\n",
    "\n",
    "## 1 risk 0 No "
   ]
  },
  {
   "cell_type": "code",
   "execution_count": 35,
   "metadata": {},
   "outputs": [
    {
     "name": "stdout",
     "output_type": "stream",
     "text": [
      "0    0.996386\n",
      "1    0.003614\n",
      "Name: Risk, dtype: float64\n",
      "AxesSubplot(0.125,0.125;0.775x0.755)\n"
     ]
    },
    {
     "data": {
      "image/png": "[encoded data removed]",
      "text/plain": [
       "<Figure size 432x288 with 1 Axes>"
      ]
     },
     "metadata": {
      "needs_background": "light"
     },
     "output_type": "display_data"
    }
   ],
   "source": [
    "df['Risk'] = df['STATUS'].apply(Risk_evaluation)\n",
    "print(df['Risk'].value_counts(normalize=True))\n",
    "print(df['Risk'].value_counts().plot(kind='bar'))\n",
    "## Imbalance dataset\n"
   ]
  },
  {
   "cell_type": "markdown",
   "metadata": {},
   "source": [
    "### DATA VISUALIZING"
   ]
  },
  {
   "cell_type": "code",
   "execution_count": 36,
   "metadata": {},
   "outputs": [
    {
     "data": {
      "text/html": [
       "<div>\n",
       "<style scoped>\n",
       "    .dataframe tbody tr th:only-of-type {\n",
       "        vertical-align: middle;\n",
       "    }\n",
       "\n",
       "    .dataframe tbody tr th {\n",
       "        vertical-align: top;\n",
       "    }\n",
       "\n",
       "    .dataframe thead th {\n",
       "        text-align: right;\n",
       "    }\n",
       "</style>\n",
       "<table border=\"1\" class=\"dataframe\">\n",
       "  <thead>\n",
       "    <tr style=\"text-align: right;\">\n",
       "      <th></th>\n",
       "      <th>ID</th>\n",
       "      <th>Gender</th>\n",
       "      <th>Own_car</th>\n",
       "      <th>Own_property</th>\n",
       "      <th>Nbchildren</th>\n",
       "      <th>Total_income_per_year</th>\n",
       "      <th>Income_type</th>\n",
       "      <th>Education_level</th>\n",
       "      <th>Marital_status</th>\n",
       "      <th>Way_of_living</th>\n",
       "      <th>...</th>\n",
       "      <th>Occupation</th>\n",
       "      <th>Nbfamily_member</th>\n",
       "      <th>MONTHS_BALANCE</th>\n",
       "      <th>STATUS</th>\n",
       "      <th>Age</th>\n",
       "      <th>Experience</th>\n",
       "      <th>Total_income_lifetime_employed</th>\n",
       "      <th>Working_year_proportion</th>\n",
       "      <th>Employment_status</th>\n",
       "      <th>Risk</th>\n",
       "    </tr>\n",
       "  </thead>\n",
       "  <tbody>\n",
       "    <tr>\n",
       "      <th>0</th>\n",
       "      <td>5008804</td>\n",
       "      <td>M</td>\n",
       "      <td>Y</td>\n",
       "      <td>Y</td>\n",
       "      <td>0</td>\n",
       "      <td>427500.0</td>\n",
       "      <td>Working</td>\n",
       "      <td>Higher education</td>\n",
       "      <td>Civil marriage</td>\n",
       "      <td>Rented apartment</td>\n",
       "      <td>...</td>\n",
       "      <td>Others</td>\n",
       "      <td>2.0</td>\n",
       "      <td>0</td>\n",
       "      <td>6</td>\n",
       "      <td>33</td>\n",
       "      <td>12.0</td>\n",
       "      <td>5130000.0</td>\n",
       "      <td>0.363636</td>\n",
       "      <td>Employment</td>\n",
       "      <td>0</td>\n",
       "    </tr>\n",
       "    <tr>\n",
       "      <th>1</th>\n",
       "      <td>5008804</td>\n",
       "      <td>M</td>\n",
       "      <td>Y</td>\n",
       "      <td>Y</td>\n",
       "      <td>0</td>\n",
       "      <td>427500.0</td>\n",
       "      <td>Working</td>\n",
       "      <td>Higher education</td>\n",
       "      <td>Civil marriage</td>\n",
       "      <td>Rented apartment</td>\n",
       "      <td>...</td>\n",
       "      <td>Others</td>\n",
       "      <td>2.0</td>\n",
       "      <td>-1</td>\n",
       "      <td>6</td>\n",
       "      <td>33</td>\n",
       "      <td>12.0</td>\n",
       "      <td>5130000.0</td>\n",
       "      <td>0.363636</td>\n",
       "      <td>Employment</td>\n",
       "      <td>0</td>\n",
       "    </tr>\n",
       "    <tr>\n",
       "      <th>2</th>\n",
       "      <td>5008804</td>\n",
       "      <td>M</td>\n",
       "      <td>Y</td>\n",
       "      <td>Y</td>\n",
       "      <td>0</td>\n",
       "      <td>427500.0</td>\n",
       "      <td>Working</td>\n",
       "      <td>Higher education</td>\n",
       "      <td>Civil marriage</td>\n",
       "      <td>Rented apartment</td>\n",
       "      <td>...</td>\n",
       "      <td>Others</td>\n",
       "      <td>2.0</td>\n",
       "      <td>-2</td>\n",
       "      <td>6</td>\n",
       "      <td>33</td>\n",
       "      <td>12.0</td>\n",
       "      <td>5130000.0</td>\n",
       "      <td>0.363636</td>\n",
       "      <td>Employment</td>\n",
       "      <td>0</td>\n",
       "    </tr>\n",
       "    <tr>\n",
       "      <th>3</th>\n",
       "      <td>5008804</td>\n",
       "      <td>M</td>\n",
       "      <td>Y</td>\n",
       "      <td>Y</td>\n",
       "      <td>0</td>\n",
       "      <td>427500.0</td>\n",
       "      <td>Working</td>\n",
       "      <td>Higher education</td>\n",
       "      <td>Civil marriage</td>\n",
       "      <td>Rented apartment</td>\n",
       "      <td>...</td>\n",
       "      <td>Others</td>\n",
       "      <td>2.0</td>\n",
       "      <td>-3</td>\n",
       "      <td>6</td>\n",
       "      <td>33</td>\n",
       "      <td>12.0</td>\n",
       "      <td>5130000.0</td>\n",
       "      <td>0.363636</td>\n",
       "      <td>Employment</td>\n",
       "      <td>0</td>\n",
       "    </tr>\n",
       "    <tr>\n",
       "      <th>4</th>\n",
       "      <td>5008804</td>\n",
       "      <td>M</td>\n",
       "      <td>Y</td>\n",
       "      <td>Y</td>\n",
       "      <td>0</td>\n",
       "      <td>427500.0</td>\n",
       "      <td>Working</td>\n",
       "      <td>Higher education</td>\n",
       "      <td>Civil marriage</td>\n",
       "      <td>Rented apartment</td>\n",
       "      <td>...</td>\n",
       "      <td>Others</td>\n",
       "      <td>2.0</td>\n",
       "      <td>-4</td>\n",
       "      <td>6</td>\n",
       "      <td>33</td>\n",
       "      <td>12.0</td>\n",
       "      <td>5130000.0</td>\n",
       "      <td>0.363636</td>\n",
       "      <td>Employment</td>\n",
       "      <td>0</td>\n",
       "    </tr>\n",
       "    <tr>\n",
       "      <th>...</th>\n",
       "      <td>...</td>\n",
       "      <td>...</td>\n",
       "      <td>...</td>\n",
       "      <td>...</td>\n",
       "      <td>...</td>\n",
       "      <td>...</td>\n",
       "      <td>...</td>\n",
       "      <td>...</td>\n",
       "      <td>...</td>\n",
       "      <td>...</td>\n",
       "      <td>...</td>\n",
       "      <td>...</td>\n",
       "      <td>...</td>\n",
       "      <td>...</td>\n",
       "      <td>...</td>\n",
       "      <td>...</td>\n",
       "      <td>...</td>\n",
       "      <td>...</td>\n",
       "      <td>...</td>\n",
       "      <td>...</td>\n",
       "      <td>...</td>\n",
       "    </tr>\n",
       "    <tr>\n",
       "      <th>777710</th>\n",
       "      <td>5150337</td>\n",
       "      <td>M</td>\n",
       "      <td>N</td>\n",
       "      <td>Y</td>\n",
       "      <td>0</td>\n",
       "      <td>112500.0</td>\n",
       "      <td>Working</td>\n",
       "      <td>Secondary / secondary special</td>\n",
       "      <td>Single / not married</td>\n",
       "      <td>Rented apartment</td>\n",
       "      <td>...</td>\n",
       "      <td>Laborers</td>\n",
       "      <td>1.0</td>\n",
       "      <td>-9</td>\n",
       "      <td>0</td>\n",
       "      <td>25</td>\n",
       "      <td>3.0</td>\n",
       "      <td>337500.0</td>\n",
       "      <td>0.120000</td>\n",
       "      <td>Employment</td>\n",
       "      <td>0</td>\n",
       "    </tr>\n",
       "    <tr>\n",
       "      <th>777711</th>\n",
       "      <td>5150337</td>\n",
       "      <td>M</td>\n",
       "      <td>N</td>\n",
       "      <td>Y</td>\n",
       "      <td>0</td>\n",
       "      <td>112500.0</td>\n",
       "      <td>Working</td>\n",
       "      <td>Secondary / secondary special</td>\n",
       "      <td>Single / not married</td>\n",
       "      <td>Rented apartment</td>\n",
       "      <td>...</td>\n",
       "      <td>Laborers</td>\n",
       "      <td>1.0</td>\n",
       "      <td>-10</td>\n",
       "      <td>2</td>\n",
       "      <td>25</td>\n",
       "      <td>3.0</td>\n",
       "      <td>337500.0</td>\n",
       "      <td>0.120000</td>\n",
       "      <td>Employment</td>\n",
       "      <td>1</td>\n",
       "    </tr>\n",
       "    <tr>\n",
       "      <th>777712</th>\n",
       "      <td>5150337</td>\n",
       "      <td>M</td>\n",
       "      <td>N</td>\n",
       "      <td>Y</td>\n",
       "      <td>0</td>\n",
       "      <td>112500.0</td>\n",
       "      <td>Working</td>\n",
       "      <td>Secondary / secondary special</td>\n",
       "      <td>Single / not married</td>\n",
       "      <td>Rented apartment</td>\n",
       "      <td>...</td>\n",
       "      <td>Laborers</td>\n",
       "      <td>1.0</td>\n",
       "      <td>-11</td>\n",
       "      <td>1</td>\n",
       "      <td>25</td>\n",
       "      <td>3.0</td>\n",
       "      <td>337500.0</td>\n",
       "      <td>0.120000</td>\n",
       "      <td>Employment</td>\n",
       "      <td>0</td>\n",
       "    </tr>\n",
       "    <tr>\n",
       "      <th>777713</th>\n",
       "      <td>5150337</td>\n",
       "      <td>M</td>\n",
       "      <td>N</td>\n",
       "      <td>Y</td>\n",
       "      <td>0</td>\n",
       "      <td>112500.0</td>\n",
       "      <td>Working</td>\n",
       "      <td>Secondary / secondary special</td>\n",
       "      <td>Single / not married</td>\n",
       "      <td>Rented apartment</td>\n",
       "      <td>...</td>\n",
       "      <td>Laborers</td>\n",
       "      <td>1.0</td>\n",
       "      <td>-12</td>\n",
       "      <td>0</td>\n",
       "      <td>25</td>\n",
       "      <td>3.0</td>\n",
       "      <td>337500.0</td>\n",
       "      <td>0.120000</td>\n",
       "      <td>Employment</td>\n",
       "      <td>0</td>\n",
       "    </tr>\n",
       "    <tr>\n",
       "      <th>777714</th>\n",
       "      <td>5150337</td>\n",
       "      <td>M</td>\n",
       "      <td>N</td>\n",
       "      <td>Y</td>\n",
       "      <td>0</td>\n",
       "      <td>112500.0</td>\n",
       "      <td>Working</td>\n",
       "      <td>Secondary / secondary special</td>\n",
       "      <td>Single / not married</td>\n",
       "      <td>Rented apartment</td>\n",
       "      <td>...</td>\n",
       "      <td>Laborers</td>\n",
       "      <td>1.0</td>\n",
       "      <td>-13</td>\n",
       "      <td>0</td>\n",
       "      <td>25</td>\n",
       "      <td>3.0</td>\n",
       "      <td>337500.0</td>\n",
       "      <td>0.120000</td>\n",
       "      <td>Employment</td>\n",
       "      <td>0</td>\n",
       "    </tr>\n",
       "  </tbody>\n",
       "</table>\n",
       "<p>758888 rows × 23 columns</p>\n",
       "</div>"
      ],
      "text/plain": [
       "             ID Gender Own_car Own_property  Nbchildren  \\\n",
       "0       5008804      M       Y            Y           0   \n",
       "1       5008804      M       Y            Y           0   \n",
       "2       5008804      M       Y            Y           0   \n",
       "3       5008804      M       Y            Y           0   \n",
       "4       5008804      M       Y            Y           0   \n",
       "...         ...    ...     ...          ...         ...   \n",
       "777710  5150337      M       N            Y           0   \n",
       "777711  5150337      M       N            Y           0   \n",
       "777712  5150337      M       N            Y           0   \n",
       "777713  5150337      M       N            Y           0   \n",
       "777714  5150337      M       N            Y           0   \n",
       "\n",
       "        Total_income_per_year Income_type                Education_level  \\\n",
       "0                    427500.0     Working               Higher education   \n",
       "1                    427500.0     Working               Higher education   \n",
       "2                    427500.0     Working               Higher education   \n",
       "3                    427500.0     Working               Higher education   \n",
       "4                    427500.0     Working               Higher education   \n",
       "...                       ...         ...                            ...   \n",
       "777710               112500.0     Working  Secondary / secondary special   \n",
       "777711               112500.0     Working  Secondary / secondary special   \n",
       "777712               112500.0     Working  Secondary / secondary special   \n",
       "777713               112500.0     Working  Secondary / secondary special   \n",
       "777714               112500.0     Working  Secondary / secondary special   \n",
       "\n",
       "              Marital_status     Way_of_living  ...  Occupation  \\\n",
       "0             Civil marriage  Rented apartment  ...      Others   \n",
       "1             Civil marriage  Rented apartment  ...      Others   \n",
       "2             Civil marriage  Rented apartment  ...      Others   \n",
       "3             Civil marriage  Rented apartment  ...      Others   \n",
       "4             Civil marriage  Rented apartment  ...      Others   \n",
       "...                      ...               ...  ...         ...   \n",
       "777710  Single / not married  Rented apartment  ...    Laborers   \n",
       "777711  Single / not married  Rented apartment  ...    Laborers   \n",
       "777712  Single / not married  Rented apartment  ...    Laborers   \n",
       "777713  Single / not married  Rented apartment  ...    Laborers   \n",
       "777714  Single / not married  Rented apartment  ...    Laborers   \n",
       "\n",
       "        Nbfamily_member  MONTHS_BALANCE STATUS  Age  Experience  \\\n",
       "0                   2.0               0      6   33        12.0   \n",
       "1                   2.0              -1      6   33        12.0   \n",
       "2                   2.0              -2      6   33        12.0   \n",
       "3                   2.0              -3      6   33        12.0   \n",
       "4                   2.0              -4      6   33        12.0   \n",
       "...                 ...             ...    ...  ...         ...   \n",
       "777710              1.0              -9      0   25         3.0   \n",
       "777711              1.0             -10      2   25         3.0   \n",
       "777712              1.0             -11      1   25         3.0   \n",
       "777713              1.0             -12      0   25         3.0   \n",
       "777714              1.0             -13      0   25         3.0   \n",
       "\n",
       "        Total_income_lifetime_employed  Working_year_proportion  \\\n",
       "0                            5130000.0                 0.363636   \n",
       "1                            5130000.0                 0.363636   \n",
       "2                            5130000.0                 0.363636   \n",
       "3                            5130000.0                 0.363636   \n",
       "4                            5130000.0                 0.363636   \n",
       "...                                ...                      ...   \n",
       "777710                        337500.0                 0.120000   \n",
       "777711                        337500.0                 0.120000   \n",
       "777712                        337500.0                 0.120000   \n",
       "777713                        337500.0                 0.120000   \n",
       "777714                        337500.0                 0.120000   \n",
       "\n",
       "        Employment_status  Risk  \n",
       "0              Employment     0  \n",
       "1              Employment     0  \n",
       "2              Employment     0  \n",
       "3              Employment     0  \n",
       "4              Employment     0  \n",
       "...                   ...   ...  \n",
       "777710         Employment     0  \n",
       "777711         Employment     1  \n",
       "777712         Employment     0  \n",
       "777713         Employment     0  \n",
       "777714         Employment     0  \n",
       "\n",
       "[758888 rows x 23 columns]"
      ]
     },
     "execution_count": 36,
     "metadata": {},
     "output_type": "execute_result"
    }
   ],
   "source": [
    "df"
   ]
  },
  {
   "cell_type": "code",
   "execution_count": 37,
   "metadata": {},
   "outputs": [
    {
     "data": {
      "text/plain": [
       "Index(['ID', 'Gender', 'Own_car', 'Own_property', 'Nbchildren',\n",
       "       'Total_income_per_year', 'Income_type', 'Education_level',\n",
       "       'Marital_status', 'Way_of_living', 'Workphone', 'Phone', 'Email',\n",
       "       'Occupation', 'Nbfamily_member', 'MONTHS_BALANCE', 'STATUS', 'Age',\n",
       "       'Experience', 'Total_income_lifetime_employed',\n",
       "       'Working_year_proportion', 'Employment_status', 'Risk'],\n",
       "      dtype='object')"
      ]
     },
     "execution_count": 37,
     "metadata": {},
     "output_type": "execute_result"
    }
   ],
   "source": [
    "columns = df.columns\n",
    "columns"
   ]
  },
  {
   "cell_type": "code",
   "execution_count": 38,
   "metadata": {},
   "outputs": [],
   "source": [
    "### drop unnecessary columns\n",
    "df = df.drop(columns=['ID'])"
   ]
  },
  {
   "cell_type": "code",
   "execution_count": 39,
   "metadata": {},
   "outputs": [
    {
     "data": {
      "image/png": "[encoded data removed]",
      "text/plain": [
       "<Figure size 432x288 with 1 Axes>"
      ]
     },
     "metadata": {
      "needs_background": "light"
     },
     "output_type": "display_data"
    },
    {
     "data": {
      "image/png": "[encoded data removed]",
      "text/plain": [
       "<Figure size 432x288 with 1 Axes>"
      ]
     },
     "metadata": {
      "needs_background": "light"
     },
     "output_type": "display_data"
    },
    {
     "data": {
      "image/png": "[encoded data removed]",
      "text/plain": [
       "<Figure size 432x288 with 1 Axes>"
      ]
     },
     "metadata": {
      "needs_background": "light"
     },
     "output_type": "display_data"
    },
    {
     "data": {
      "image/png": "[encoded data removed]",
      "text/plain": [
       "<Figure size 432x288 with 1 Axes>"
      ]
     },
     "metadata": {
      "needs_background": "light"
     },
     "output_type": "display_data"
    },
    {
     "data": {
      "image/png": "[encoded data removed]",
      "text/plain": [
       "<Figure size 432x288 with 1 Axes>"
      ]
     },
     "metadata": {
      "needs_background": "light"
     },
     "output_type": "display_data"
    },
    {
     "data": {
      "image/png": "[encoded data removed]",
      "text/plain": [
       "<Figure size 432x288 with 1 Axes>"
      ]
     },
     "metadata": {
      "needs_background": "light"
     },
     "output_type": "display_data"
    },
    {
     "data": {
      "image/png": "[encoded data removed]",
      "text/plain": [
       "<Figure size 432x288 with 1 Axes>"
      ]
     },
     "metadata": {
      "needs_background": "light"
     },
     "output_type": "display_data"
    },
    {
     "data": {
      "image/png": "[encoded data removed]",
      "text/plain": [
       "<Figure size 432x288 with 1 Axes>"
      ]
     },
     "metadata": {
      "needs_background": "light"
     },
     "output_type": "display_data"
    },
    {
     "data": {
      "image/png": "[encoded data removed]",
      "text/plain": [
       "<Figure size 432x288 with 1 Axes>"
      ]
     },
     "metadata": {
      "needs_background": "light"
     },
     "output_type": "display_data"
    },
    {
     "data": {
      "image/png": "[encoded data removed]",
      "text/plain": [
       "<Figure size 432x288 with 1 Axes>"
      ]
     },
     "metadata": {
      "needs_background": "light"
     },
     "output_type": "display_data"
    },
    {
     "data": {
      "image/png": "[encoded data removed]",
      "text/plain": [
       "<Figure size 432x288 with 1 Axes>"
      ]
     },
     "metadata": {
      "needs_background": "light"
     },
     "output_type": "display_data"
    },
    {
     "data": {
      "image/png": "[encoded data removed]",
      "text/plain": [
       "<Figure size 432x288 with 1 Axes>"
      ]
     },
     "metadata": {
      "needs_background": "light"
     },
     "output_type": "display_data"
    },
    {
     "data": {
      "image/png": "[encoded data removed]",
      "text/plain": [
       "<Figure size 432x288 with 1 Axes>"
      ]
     },
     "metadata": {
      "needs_background": "light"
     },
     "output_type": "display_data"
    },
    {
     "data": {
      "image/png": "[encoded data removed]",
      "text/plain": [
       "<Figure size 432x288 with 1 Axes>"
      ]
     },
     "metadata": {
      "needs_background": "light"
     },
     "output_type": "display_data"
    },
    {
     "data": {
      "image/png": "[encoded data removed]",
      "text/plain": [
       "<Figure size 432x288 with 1 Axes>"
      ]
     },
     "metadata": {
      "needs_background": "light"
     },
     "output_type": "display_data"
    }
   ],
   "source": [
    "column = ['Gender', 'Own_car', 'Own_property', 'Nbchildren',\n",
    "        'Income_type', 'Education_level',\n",
    "       'Marital_status', 'Way_of_living', 'Workphone', 'Phone', 'Email',\n",
    "       'Occupation', 'Nbfamily_member', 'STATUS','Employment_status']\n",
    "for variable in column:\n",
    "    df.groupby(variable)['Risk'].value_counts().plot(kind='bar')\n",
    "    plt.show()\n"
   ]
  },
  {
   "cell_type": "code",
   "execution_count": 40,
   "metadata": {},
   "outputs": [
    {
     "data": {
      "image/png": "[encoded data removed]",
      "text/plain": [
       "<Figure size 1152x720 with 2 Axes>"
      ]
     },
     "metadata": {
      "needs_background": "light"
     },
     "output_type": "display_data"
    }
   ],
   "source": [
    "plt.figure(figsize = (16,10))\n",
    "sns.heatmap(df.corr(),annot= True)\n",
    "plt.show()"
   ]
  },
  {
   "cell_type": "code",
   "execution_count": 41,
   "metadata": {},
   "outputs": [
    {
     "data": {
      "text/plain": [
       "Index(['Nbchildren', 'Total_income_per_year', 'Workphone', 'Phone', 'Email',\n",
       "       'Nbfamily_member', 'MONTHS_BALANCE', 'STATUS', 'Age', 'Experience',\n",
       "       'Total_income_lifetime_employed', 'Working_year_proportion'],\n",
       "      dtype='object')"
      ]
     },
     "execution_count": 41,
     "metadata": {},
     "output_type": "execute_result"
    }
   ],
   "source": [
    "df.corr().columns"
   ]
  },
  {
   "cell_type": "code",
   "execution_count": 42,
   "metadata": {},
   "outputs": [],
   "source": [
    "### checking multicollinearity VIF\n",
    "from statsmodels.stats.outliers_influence import variance_inflation_factor\n",
    "from statsmodels.tools.tools import add_constant\n",
    "variables_con = df[['Nbchildren', 'Total_income_per_year', 'Workphone', 'Phone', 'Email',\n",
    "       'Nbfamily_member', 'MONTHS_BALANCE', 'STATUS', 'Age', 'Experience',\n",
    "       'Total_income_lifetime_employed','Working_year_proportion']]\n",
    "vif_con = pd.DataFrame()"
   ]
  },
  {
   "cell_type": "code",
   "execution_count": 43,
   "metadata": {},
   "outputs": [],
   "source": [
    "vif_con[\"VIF\"] = [variance_inflation_factor(variables_con.values, i) for i in range(variables_con.shape[1])]\n",
    "vif_con[\"features\"] = variables_con.columns"
   ]
  },
  {
   "cell_type": "code",
   "execution_count": 44,
   "metadata": {},
   "outputs": [
    {
     "data": {
      "text/html": [
       "<div>\n",
       "<style scoped>\n",
       "    .dataframe tbody tr th:only-of-type {\n",
       "        vertical-align: middle;\n",
       "    }\n",
       "\n",
       "    .dataframe tbody tr th {\n",
       "        vertical-align: top;\n",
       "    }\n",
       "\n",
       "    .dataframe thead th {\n",
       "        text-align: right;\n",
       "    }\n",
       "</style>\n",
       "<table border=\"1\" class=\"dataframe\">\n",
       "  <thead>\n",
       "    <tr style=\"text-align: right;\">\n",
       "      <th></th>\n",
       "      <th>VIF</th>\n",
       "      <th>features</th>\n",
       "    </tr>\n",
       "  </thead>\n",
       "  <tbody>\n",
       "    <tr>\n",
       "      <th>0</th>\n",
       "      <td>5.139388</td>\n",
       "      <td>Nbchildren</td>\n",
       "    </tr>\n",
       "    <tr>\n",
       "      <th>1</th>\n",
       "      <td>5.987069</td>\n",
       "      <td>Total_income_per_year</td>\n",
       "    </tr>\n",
       "    <tr>\n",
       "      <th>2</th>\n",
       "      <td>1.544066</td>\n",
       "      <td>Workphone</td>\n",
       "    </tr>\n",
       "    <tr>\n",
       "      <th>3</th>\n",
       "      <td>1.599815</td>\n",
       "      <td>Phone</td>\n",
       "    </tr>\n",
       "    <tr>\n",
       "      <th>4</th>\n",
       "      <td>1.114729</td>\n",
       "      <td>Email</td>\n",
       "    </tr>\n",
       "    <tr>\n",
       "      <th>5</th>\n",
       "      <td>22.269227</td>\n",
       "      <td>Nbfamily_member</td>\n",
       "    </tr>\n",
       "    <tr>\n",
       "      <th>6</th>\n",
       "      <td>2.871281</td>\n",
       "      <td>MONTHS_BALANCE</td>\n",
       "    </tr>\n",
       "    <tr>\n",
       "      <th>7</th>\n",
       "      <td>2.546340</td>\n",
       "      <td>STATUS</td>\n",
       "    </tr>\n",
       "    <tr>\n",
       "      <th>8</th>\n",
       "      <td>16.715262</td>\n",
       "      <td>Age</td>\n",
       "    </tr>\n",
       "    <tr>\n",
       "      <th>9</th>\n",
       "      <td>79.944027</td>\n",
       "      <td>Experience</td>\n",
       "    </tr>\n",
       "    <tr>\n",
       "      <th>10</th>\n",
       "      <td>5.923501</td>\n",
       "      <td>Total_income_lifetime_employed</td>\n",
       "    </tr>\n",
       "    <tr>\n",
       "      <th>11</th>\n",
       "      <td>72.894149</td>\n",
       "      <td>Working_year_proportion</td>\n",
       "    </tr>\n",
       "  </tbody>\n",
       "</table>\n",
       "</div>"
      ],
      "text/plain": [
       "          VIF                        features\n",
       "0    5.139388                      Nbchildren\n",
       "1    5.987069           Total_income_per_year\n",
       "2    1.544066                       Workphone\n",
       "3    1.599815                           Phone\n",
       "4    1.114729                           Email\n",
       "5   22.269227                 Nbfamily_member\n",
       "6    2.871281                  MONTHS_BALANCE\n",
       "7    2.546340                          STATUS\n",
       "8   16.715262                             Age\n",
       "9   79.944027                      Experience\n",
       "10   5.923501  Total_income_lifetime_employed\n",
       "11  72.894149         Working_year_proportion"
      ]
     },
     "execution_count": 44,
     "metadata": {},
     "output_type": "execute_result"
    }
   ],
   "source": [
    "vif_con\n",
    "\n",
    "### In case of using logistic regression"
   ]
  },
  {
   "attachments": {},
   "cell_type": "markdown",
   "metadata": {},
   "source": [
    "### DATA PREPROCESSING"
   ]
  },
  {
   "cell_type": "code",
   "execution_count": 45,
   "metadata": {},
   "outputs": [
    {
     "data": {
      "text/plain": [
       "Index(['Gender', 'Own_car', 'Own_property', 'Nbchildren',\n",
       "       'Total_income_per_year', 'Income_type', 'Education_level',\n",
       "       'Marital_status', 'Way_of_living', 'Workphone', 'Phone', 'Email',\n",
       "       'Occupation', 'Nbfamily_member', 'MONTHS_BALANCE', 'STATUS', 'Age',\n",
       "       'Experience', 'Total_income_lifetime_employed',\n",
       "       'Working_year_proportion', 'Employment_status', 'Risk'],\n",
       "      dtype='object')"
      ]
     },
     "execution_count": 45,
     "metadata": {},
     "output_type": "execute_result"
    }
   ],
   "source": [
    "df.columns"
   ]
  },
  {
   "cell_type": "code",
   "execution_count": 46,
   "metadata": {},
   "outputs": [],
   "source": [
    "df['Risk'] = df['Risk'].astype('int')"
   ]
  },
  {
   "cell_type": "code",
   "execution_count": 47,
   "metadata": {},
   "outputs": [
    {
     "data": {
      "text/html": [
       "<div>\n",
       "<style scoped>\n",
       "    .dataframe tbody tr th:only-of-type {\n",
       "        vertical-align: middle;\n",
       "    }\n",
       "\n",
       "    .dataframe tbody tr th {\n",
       "        vertical-align: top;\n",
       "    }\n",
       "\n",
       "    .dataframe thead th {\n",
       "        text-align: right;\n",
       "    }\n",
       "</style>\n",
       "<table border=\"1\" class=\"dataframe\">\n",
       "  <thead>\n",
       "    <tr style=\"text-align: right;\">\n",
       "      <th></th>\n",
       "      <th>Gender_F</th>\n",
       "      <th>Gender_M</th>\n",
       "      <th>Own_car_N</th>\n",
       "      <th>Own_car_Y</th>\n",
       "      <th>Own_property_N</th>\n",
       "      <th>Own_property_Y</th>\n",
       "      <th>Income_type_Commercial associate</th>\n",
       "      <th>Income_type_Pensioner</th>\n",
       "      <th>Income_type_State servant</th>\n",
       "      <th>Income_type_Student</th>\n",
       "      <th>...</th>\n",
       "      <th>Phone</th>\n",
       "      <th>Email</th>\n",
       "      <th>Nbfamily_member</th>\n",
       "      <th>MONTHS_BALANCE</th>\n",
       "      <th>STATUS</th>\n",
       "      <th>Age</th>\n",
       "      <th>Experience</th>\n",
       "      <th>Total_income_lifetime_employed</th>\n",
       "      <th>Working_year_proportion</th>\n",
       "      <th>Risk</th>\n",
       "    </tr>\n",
       "  </thead>\n",
       "  <tbody>\n",
       "    <tr>\n",
       "      <th>0</th>\n",
       "      <td>0</td>\n",
       "      <td>1</td>\n",
       "      <td>0</td>\n",
       "      <td>1</td>\n",
       "      <td>0</td>\n",
       "      <td>1</td>\n",
       "      <td>0</td>\n",
       "      <td>0</td>\n",
       "      <td>0</td>\n",
       "      <td>0</td>\n",
       "      <td>...</td>\n",
       "      <td>0</td>\n",
       "      <td>0</td>\n",
       "      <td>2.0</td>\n",
       "      <td>0</td>\n",
       "      <td>6</td>\n",
       "      <td>33</td>\n",
       "      <td>12.0</td>\n",
       "      <td>5130000.0</td>\n",
       "      <td>0.363636</td>\n",
       "      <td>0</td>\n",
       "    </tr>\n",
       "    <tr>\n",
       "      <th>1</th>\n",
       "      <td>0</td>\n",
       "      <td>1</td>\n",
       "      <td>0</td>\n",
       "      <td>1</td>\n",
       "      <td>0</td>\n",
       "      <td>1</td>\n",
       "      <td>0</td>\n",
       "      <td>0</td>\n",
       "      <td>0</td>\n",
       "      <td>0</td>\n",
       "      <td>...</td>\n",
       "      <td>0</td>\n",
       "      <td>0</td>\n",
       "      <td>2.0</td>\n",
       "      <td>-1</td>\n",
       "      <td>6</td>\n",
       "      <td>33</td>\n",
       "      <td>12.0</td>\n",
       "      <td>5130000.0</td>\n",
       "      <td>0.363636</td>\n",
       "      <td>0</td>\n",
       "    </tr>\n",
       "    <tr>\n",
       "      <th>2</th>\n",
       "      <td>0</td>\n",
       "      <td>1</td>\n",
       "      <td>0</td>\n",
       "      <td>1</td>\n",
       "      <td>0</td>\n",
       "      <td>1</td>\n",
       "      <td>0</td>\n",
       "      <td>0</td>\n",
       "      <td>0</td>\n",
       "      <td>0</td>\n",
       "      <td>...</td>\n",
       "      <td>0</td>\n",
       "      <td>0</td>\n",
       "      <td>2.0</td>\n",
       "      <td>-2</td>\n",
       "      <td>6</td>\n",
       "      <td>33</td>\n",
       "      <td>12.0</td>\n",
       "      <td>5130000.0</td>\n",
       "      <td>0.363636</td>\n",
       "      <td>0</td>\n",
       "    </tr>\n",
       "    <tr>\n",
       "      <th>3</th>\n",
       "      <td>0</td>\n",
       "      <td>1</td>\n",
       "      <td>0</td>\n",
       "      <td>1</td>\n",
       "      <td>0</td>\n",
       "      <td>1</td>\n",
       "      <td>0</td>\n",
       "      <td>0</td>\n",
       "      <td>0</td>\n",
       "      <td>0</td>\n",
       "      <td>...</td>\n",
       "      <td>0</td>\n",
       "      <td>0</td>\n",
       "      <td>2.0</td>\n",
       "      <td>-3</td>\n",
       "      <td>6</td>\n",
       "      <td>33</td>\n",
       "      <td>12.0</td>\n",
       "      <td>5130000.0</td>\n",
       "      <td>0.363636</td>\n",
       "      <td>0</td>\n",
       "    </tr>\n",
       "    <tr>\n",
       "      <th>4</th>\n",
       "      <td>0</td>\n",
       "      <td>1</td>\n",
       "      <td>0</td>\n",
       "      <td>1</td>\n",
       "      <td>0</td>\n",
       "      <td>1</td>\n",
       "      <td>0</td>\n",
       "      <td>0</td>\n",
       "      <td>0</td>\n",
       "      <td>0</td>\n",
       "      <td>...</td>\n",
       "      <td>0</td>\n",
       "      <td>0</td>\n",
       "      <td>2.0</td>\n",
       "      <td>-4</td>\n",
       "      <td>6</td>\n",
       "      <td>33</td>\n",
       "      <td>12.0</td>\n",
       "      <td>5130000.0</td>\n",
       "      <td>0.363636</td>\n",
       "      <td>0</td>\n",
       "    </tr>\n",
       "    <tr>\n",
       "      <th>...</th>\n",
       "      <td>...</td>\n",
       "      <td>...</td>\n",
       "      <td>...</td>\n",
       "      <td>...</td>\n",
       "      <td>...</td>\n",
       "      <td>...</td>\n",
       "      <td>...</td>\n",
       "      <td>...</td>\n",
       "      <td>...</td>\n",
       "      <td>...</td>\n",
       "      <td>...</td>\n",
       "      <td>...</td>\n",
       "      <td>...</td>\n",
       "      <td>...</td>\n",
       "      <td>...</td>\n",
       "      <td>...</td>\n",
       "      <td>...</td>\n",
       "      <td>...</td>\n",
       "      <td>...</td>\n",
       "      <td>...</td>\n",
       "      <td>...</td>\n",
       "    </tr>\n",
       "    <tr>\n",
       "      <th>777710</th>\n",
       "      <td>0</td>\n",
       "      <td>1</td>\n",
       "      <td>1</td>\n",
       "      <td>0</td>\n",
       "      <td>0</td>\n",
       "      <td>1</td>\n",
       "      <td>0</td>\n",
       "      <td>0</td>\n",
       "      <td>0</td>\n",
       "      <td>0</td>\n",
       "      <td>...</td>\n",
       "      <td>0</td>\n",
       "      <td>0</td>\n",
       "      <td>1.0</td>\n",
       "      <td>-9</td>\n",
       "      <td>0</td>\n",
       "      <td>25</td>\n",
       "      <td>3.0</td>\n",
       "      <td>337500.0</td>\n",
       "      <td>0.120000</td>\n",
       "      <td>0</td>\n",
       "    </tr>\n",
       "    <tr>\n",
       "      <th>777711</th>\n",
       "      <td>0</td>\n",
       "      <td>1</td>\n",
       "      <td>1</td>\n",
       "      <td>0</td>\n",
       "      <td>0</td>\n",
       "      <td>1</td>\n",
       "      <td>0</td>\n",
       "      <td>0</td>\n",
       "      <td>0</td>\n",
       "      <td>0</td>\n",
       "      <td>...</td>\n",
       "      <td>0</td>\n",
       "      <td>0</td>\n",
       "      <td>1.0</td>\n",
       "      <td>-10</td>\n",
       "      <td>2</td>\n",
       "      <td>25</td>\n",
       "      <td>3.0</td>\n",
       "      <td>337500.0</td>\n",
       "      <td>0.120000</td>\n",
       "      <td>1</td>\n",
       "    </tr>\n",
       "    <tr>\n",
       "      <th>777712</th>\n",
       "      <td>0</td>\n",
       "      <td>1</td>\n",
       "      <td>1</td>\n",
       "      <td>0</td>\n",
       "      <td>0</td>\n",
       "      <td>1</td>\n",
       "      <td>0</td>\n",
       "      <td>0</td>\n",
       "      <td>0</td>\n",
       "      <td>0</td>\n",
       "      <td>...</td>\n",
       "      <td>0</td>\n",
       "      <td>0</td>\n",
       "      <td>1.0</td>\n",
       "      <td>-11</td>\n",
       "      <td>1</td>\n",
       "      <td>25</td>\n",
       "      <td>3.0</td>\n",
       "      <td>337500.0</td>\n",
       "      <td>0.120000</td>\n",
       "      <td>0</td>\n",
       "    </tr>\n",
       "    <tr>\n",
       "      <th>777713</th>\n",
       "      <td>0</td>\n",
       "      <td>1</td>\n",
       "      <td>1</td>\n",
       "      <td>0</td>\n",
       "      <td>0</td>\n",
       "      <td>1</td>\n",
       "      <td>0</td>\n",
       "      <td>0</td>\n",
       "      <td>0</td>\n",
       "      <td>0</td>\n",
       "      <td>...</td>\n",
       "      <td>0</td>\n",
       "      <td>0</td>\n",
       "      <td>1.0</td>\n",
       "      <td>-12</td>\n",
       "      <td>0</td>\n",
       "      <td>25</td>\n",
       "      <td>3.0</td>\n",
       "      <td>337500.0</td>\n",
       "      <td>0.120000</td>\n",
       "      <td>0</td>\n",
       "    </tr>\n",
       "    <tr>\n",
       "      <th>777714</th>\n",
       "      <td>0</td>\n",
       "      <td>1</td>\n",
       "      <td>1</td>\n",
       "      <td>0</td>\n",
       "      <td>0</td>\n",
       "      <td>1</td>\n",
       "      <td>0</td>\n",
       "      <td>0</td>\n",
       "      <td>0</td>\n",
       "      <td>0</td>\n",
       "      <td>...</td>\n",
       "      <td>0</td>\n",
       "      <td>0</td>\n",
       "      <td>1.0</td>\n",
       "      <td>-13</td>\n",
       "      <td>0</td>\n",
       "      <td>25</td>\n",
       "      <td>3.0</td>\n",
       "      <td>337500.0</td>\n",
       "      <td>0.120000</td>\n",
       "      <td>0</td>\n",
       "    </tr>\n",
       "  </tbody>\n",
       "</table>\n",
       "<p>758888 rows × 61 columns</p>\n",
       "</div>"
      ],
      "text/plain": [
       "        Gender_F  Gender_M  Own_car_N  Own_car_Y  Own_property_N  \\\n",
       "0              0         1          0          1               0   \n",
       "1              0         1          0          1               0   \n",
       "2              0         1          0          1               0   \n",
       "3              0         1          0          1               0   \n",
       "4              0         1          0          1               0   \n",
       "...          ...       ...        ...        ...             ...   \n",
       "777710         0         1          1          0               0   \n",
       "777711         0         1          1          0               0   \n",
       "777712         0         1          1          0               0   \n",
       "777713         0         1          1          0               0   \n",
       "777714         0         1          1          0               0   \n",
       "\n",
       "        Own_property_Y  Income_type_Commercial associate  \\\n",
       "0                    1                                 0   \n",
       "1                    1                                 0   \n",
       "2                    1                                 0   \n",
       "3                    1                                 0   \n",
       "4                    1                                 0   \n",
       "...                ...                               ...   \n",
       "777710               1                                 0   \n",
       "777711               1                                 0   \n",
       "777712               1                                 0   \n",
       "777713               1                                 0   \n",
       "777714               1                                 0   \n",
       "\n",
       "        Income_type_Pensioner  Income_type_State servant  Income_type_Student  \\\n",
       "0                           0                          0                    0   \n",
       "1                           0                          0                    0   \n",
       "2                           0                          0                    0   \n",
       "3                           0                          0                    0   \n",
       "4                           0                          0                    0   \n",
       "...                       ...                        ...                  ...   \n",
       "777710                      0                          0                    0   \n",
       "777711                      0                          0                    0   \n",
       "777712                      0                          0                    0   \n",
       "777713                      0                          0                    0   \n",
       "777714                      0                          0                    0   \n",
       "\n",
       "        ...  Phone  Email  Nbfamily_member  MONTHS_BALANCE  STATUS  Age  \\\n",
       "0       ...      0      0              2.0               0       6   33   \n",
       "1       ...      0      0              2.0              -1       6   33   \n",
       "2       ...      0      0              2.0              -2       6   33   \n",
       "3       ...      0      0              2.0              -3       6   33   \n",
       "4       ...      0      0              2.0              -4       6   33   \n",
       "...     ...    ...    ...              ...             ...     ...  ...   \n",
       "777710  ...      0      0              1.0              -9       0   25   \n",
       "777711  ...      0      0              1.0             -10       2   25   \n",
       "777712  ...      0      0              1.0             -11       1   25   \n",
       "777713  ...      0      0              1.0             -12       0   25   \n",
       "777714  ...      0      0              1.0             -13       0   25   \n",
       "\n",
       "        Experience  Total_income_lifetime_employed  Working_year_proportion  \\\n",
       "0             12.0                       5130000.0                 0.363636   \n",
       "1             12.0                       5130000.0                 0.363636   \n",
       "2             12.0                       5130000.0                 0.363636   \n",
       "3             12.0                       5130000.0                 0.363636   \n",
       "4             12.0                       5130000.0                 0.363636   \n",
       "...            ...                             ...                      ...   \n",
       "777710         3.0                        337500.0                 0.120000   \n",
       "777711         3.0                        337500.0                 0.120000   \n",
       "777712         3.0                        337500.0                 0.120000   \n",
       "777713         3.0                        337500.0                 0.120000   \n",
       "777714         3.0                        337500.0                 0.120000   \n",
       "\n",
       "        Risk  \n",
       "0          0  \n",
       "1          0  \n",
       "2          0  \n",
       "3          0  \n",
       "4          0  \n",
       "...      ...  \n",
       "777710     0  \n",
       "777711     1  \n",
       "777712     0  \n",
       "777713     0  \n",
       "777714     0  \n",
       "\n",
       "[758888 rows x 61 columns]"
      ]
     },
     "execution_count": 47,
     "metadata": {},
     "output_type": "execute_result"
    }
   ],
   "source": [
    "dummies_data = pd.get_dummies(df[df.columns[df.dtypes==object]])\n",
    "data_encoded = pd.concat([dummies_data, df[df.columns[df.dtypes != object]]],axis=1)\n",
    "data_encoded"
   ]
  },
  {
   "cell_type": "code",
   "execution_count": 48,
   "metadata": {},
   "outputs": [],
   "source": [
    "X = data_encoded.drop(['Risk'],axis=1)\n",
    "y = data_encoded['Risk']"
   ]
  },
  {
   "cell_type": "code",
   "execution_count": 49,
   "metadata": {},
   "outputs": [],
   "source": [
    "# data standarization \n",
    "from sklearn.preprocessing import StandardScaler\n",
    "scaler=StandardScaler()\n",
    "x_scaled = scaler.fit_transform(X)"
   ]
  },
  {
   "cell_type": "code",
   "execution_count": 50,
   "metadata": {},
   "outputs": [
    {
     "name": "stdout",
     "output_type": "stream",
     "text": [
      "Requirement already satisfied: imbalanced-learn in d:\\anaconda\\lib\\site-packages (0.10.1)\n",
      "Requirement already satisfied: scikit-learn>=1.0.2 in d:\\anaconda\\lib\\site-packages (from imbalanced-learn) (1.2.0)\n",
      "Requirement already satisfied: numpy>=1.17.3 in d:\\anaconda\\lib\\site-packages (from imbalanced-learn) (1.20.3)\n",
      "Requirement already satisfied: scipy>=1.3.2 in d:\\anaconda\\lib\\site-packages (from imbalanced-learn) (1.7.1)\n",
      "Requirement already satisfied: threadpoolctl>=2.0.0 in d:\\anaconda\\lib\\site-packages (from imbalanced-learn) (2.2.0)\n",
      "Requirement already satisfied: joblib>=1.1.1 in d:\\anaconda\\lib\\site-packages (from imbalanced-learn) (1.2.0)\n",
      "Note: you may need to restart the kernel to use updated packages.\n"
     ]
    }
   ],
   "source": [
    "pip install -U imbalanced-learn"
   ]
  },
  {
   "cell_type": "code",
   "execution_count": 54,
   "metadata": {},
   "outputs": [],
   "source": [
    "from imblearn.over_sampling import SMOTE\n",
    "oversample = SMOTE()\n",
    "X_balanced, y_balanced = oversample.fit_resample(x_scaled, y)"
   ]
  },
  {
   "cell_type": "code",
   "execution_count": 55,
   "metadata": {},
   "outputs": [],
   "source": [
    "from sklearn.model_selection import train_test_split\n",
    "x_train ,x_test ,y_train,y_test = train_test_split(X_balanced,y_balanced,test_size=0.3,random_state=25,shuffle=True)"
   ]
  },
  {
   "cell_type": "code",
   "execution_count": 56,
   "metadata": {},
   "outputs": [
    {
     "name": "stderr",
     "output_type": "stream",
     "text": [
      "d:\\anaconda\\lib\\site-packages\\sklearn\\linear_model\\_logistic.py:458: ConvergenceWarning: lbfgs failed to converge (status=1):\n",
      "STOP: TOTAL NO. of ITERATIONS REACHED LIMIT.\n",
      "\n",
      "Increase the number of iterations (max_iter) or scale the data as shown in:\n",
      "    https://scikit-learn.org/stable/modules/preprocessing.html\n",
      "Please also refer to the documentation for alternative solver options:\n",
      "    https://scikit-learn.org/stable/modules/linear_model.html#logistic-regression\n",
      "  n_iter_i = _check_optimize_result(\n"
     ]
    },
    {
     "name": "stdout",
     "output_type": "stream",
     "text": [
      "Logistic Model Accuracy :  62.80739805196094 %\n",
      "\n",
      "Confusion matrix :\n",
      "[[146646  80330]\n",
      " [ 88408 138303]]\n",
      "\n",
      "Classification report:\n",
      "              precision    recall  f1-score   support\n",
      "\n",
      "           0       0.62      0.65      0.63    226976\n",
      "           1       0.63      0.61      0.62    226711\n",
      "\n",
      "    accuracy                           0.63    453687\n",
      "   macro avg       0.63      0.63      0.63    453687\n",
      "weighted avg       0.63      0.63      0.63    453687\n",
      "\n",
      "\\ROC_AUC_SCORE report:\n",
      "0.6280634535346887\n"
     ]
    }
   ],
   "source": [
    "from sklearn.linear_model import LogisticRegression\n",
    "from sklearn.metrics import classification_report, accuracy_score, confusion_matrix,roc_auc_score\n",
    "\n",
    "Logit = LogisticRegression()\n",
    "Logit.fit(x_train, y_train)\n",
    "\n",
    "print('Logistic Model Accuracy : ', Logit.score(x_test, y_test)*100, '%')\n",
    "\n",
    "prediction = Logit.predict(x_test)\n",
    "print('\\nConfusion matrix :')\n",
    "print(confusion_matrix(y_test, prediction))\n",
    "      \n",
    "print('\\nClassification report:')      \n",
    "print(classification_report(y_test, prediction))\n",
    "\n",
    "print('\\ROC_AUC_SCORE report:')\n",
    "print(roc_auc_score(y_test,prediction))"
   ]
  },
  {
   "cell_type": "code",
   "execution_count": 58,
   "metadata": {},
   "outputs": [
    {
     "name": "stdout",
     "output_type": "stream",
     "text": [
      "Decision Tree Model Accuracy :  100.0 %\n",
      "\n",
      "Confusion matrix :\n",
      "[[226976      0]\n",
      " [     0 226711]]\n",
      "\n",
      "Classification report:\n",
      "              precision    recall  f1-score   support\n",
      "\n",
      "           0       1.00      1.00      1.00    226976\n",
      "           1       1.00      1.00      1.00    226711\n",
      "\n",
      "    accuracy                           1.00    453687\n",
      "   macro avg       1.00      1.00      1.00    453687\n",
      "weighted avg       1.00      1.00      1.00    453687\n",
      "\n",
      "\\ROC_AUC_SCORE report:\n",
      "1.0\n"
     ]
    }
   ],
   "source": [
    "from sklearn.tree import DecisionTreeClassifier\n",
    "\n",
    "decision_model = DecisionTreeClassifier(max_depth=12,min_samples_split=8)\n",
    "\n",
    "decision_model.fit(x_train, y_train)\n",
    "\n",
    "print('Decision Tree Model Accuracy : ', decision_model.score(x_test, y_test)*100, '%')\n",
    "\n",
    "prediction = decision_model.predict(x_test)\n",
    "print('\\nConfusion matrix :')\n",
    "print(confusion_matrix(y_test, prediction))\n",
    "      \n",
    "print('\\nClassification report:')      \n",
    "print(classification_report(y_test, prediction))\n",
    "\n",
    "print('\\ROC_AUC_SCORE report:')\n",
    "print(roc_auc_score(y_test,prediction))"
   ]
  },
  {
   "cell_type": "code",
   "execution_count": null,
   "metadata": {},
   "outputs": [],
   "source": [
    "from sklearn.svm import SVC\n",
    "\n",
    "svc_model = SVC()\n",
    "\n",
    "svc_model.fit(x_train, y_train)\n",
    "\n",
    "print('Support Vector Classifier Accuracy : ', svc_model.score(x_test, y_test)*100, '%')\n",
    "\n",
    "prediction = svc_model.predict(x_test)\n",
    "print('\\nConfusion matrix :')\n",
    "print(confusion_matrix(y_test, prediction))\n",
    "      \n",
    "print('\\nClassification report:')      \n",
    "print(classification_report(y_test, prediction))\n",
    "\n",
    "print('\\ROC_AUC_SCORE report:')\n",
    "print(roc_auc_score(y_test,prediction))"
   ]
  },
  {
   "cell_type": "code",
   "execution_count": null,
   "metadata": {},
   "outputs": [],
   "source": [
    "from sklearn.tree import RandomForestClassifier\n",
    "\n",
    "decision_model = RandomForestClassifier(max_depth=12,min_samples_split=8)\n",
    "\n",
    "decision_model.fit(x_train, y_train)\n",
    "\n",
    "print('Decision Tree Model Accuracy : ', decision_model.score(x_test, y_test)*100, '%')\n",
    "\n",
    "prediction = decision_model.predict(x_test)\n",
    "print('\\nConfusion matrix :')\n",
    "print(confusion_matrix(y_test, prediction))\n",
    "      \n",
    "print('\\nClassification report:')      \n",
    "print(classification_report(y_test, prediction))\n",
    "\n",
    "print('\\ROC_AUC_SCORE report:')\n",
    "print(roc_auc_score(y_test,prediction))"
   ]
  }
 ],
 "metadata": {
  "kernelspec": {
   "display_name": "Python 3",
   "language": "python",
   "name": "python3"
  },
  "language_info": {
   "codemirror_mode": {
    "name": "ipython",
    "version": 3
   },
   "file_extension": ".py",
   "mimetype": "text/x-python",
   "name": "python",
   "nbconvert_exporter": "python",
   "pygments_lexer": "ipython3",
   "version": "3.9.7"
  },
  "orig_nbformat": 4,
  "vscode": {
   "interpreter": {
    "hash": "5179d32cf6ec497baf3f8a3ef987cc77c5d2dc691fdde20a56316522f61a7323"
   }
  }
 },
 "nbformat": 4,
 "nbformat_minor": 2
}
