{
 "cells": [
  {
   "cell_type": "code",
   "execution_count": 5,
   "metadata": {},
   "outputs": [],
   "source": [
    "import requests"
   ]
  },
  {
   "cell_type": "code",
   "execution_count": 6,
   "metadata": {},
   "outputs": [],
   "source": [
    "url = 'http://localhost:9696/predict'"
   ]
  },
  {
   "cell_type": "code",
   "execution_count": 7,
   "metadata": {},
   "outputs": [],
   "source": [
    "test = {\"Gender\": \"F\",\n",
    " \"Own_car\": \"Y\",\n",
    " \"Own_property\": \"Y\",\n",
    " \"Income_type\": \"Pensioner\",\n",
    " \"Education_level\": \"Secondary / secondary special\",\n",
    " \"Marital_status\": \"Married\",\n",
    " \"Way_of_living\": \"House / apartment\",\n",
    " \"Occupation\": \"Others\",\n",
    " \"Employment_status\": \"Unemployed\",\n",
    " \"Nbchildren\": 0,\n",
    " \"Total_income_per_year\": 126000000000000.0,\n",
    " \"Workphone\": 0,\n",
    " \"Phone\": 0,\n",
    " \"Email\": 1,\n",
    " \"Nbfamily_member\": 2.0,\n",
    " \"no_loan\": 0,\n",
    " \"Total_months_credit_registered\": 2,\n",
    " \"Delinquent_accounts\": 1,\n",
    " \"Ordinary_accounts\": 0,\n",
    " \"overall_pastdue\": 0,\n",
    " \"paid_pastdue_diff\": 2,\n",
    " \"Age\": 56,\n",
    " \"Experience\": -1001.0,\n",
    " \"Total_income_lifetime_employed\": -126126000.0,\n",
    " \"Working_year_proportion\": -17.875,\n",
    " \"Rand\": 1}"
   ]
  },
  {
   "cell_type": "code",
   "execution_count": 8,
   "metadata": {},
   "outputs": [
    {
     "data": {
      "text/plain": [
       "{'risk': True, 'risk_proba': 0.4205996546556303}"
      ]
     },
     "execution_count": 8,
     "metadata": {},
     "output_type": "execute_result"
    }
   ],
   "source": [
    "requests.post(url, json= test).json()"
   ]
  },
  {
   "cell_type": "code",
   "execution_count": null,
   "metadata": {},
   "outputs": [],
   "source": []
  },
  {
   "cell_type": "code",
   "execution_count": null,
   "metadata": {},
   "outputs": [],
   "source": []
  }
 ],
 "metadata": {
  "kernelspec": {
   "display_name": "Credit-ol4FUWEK",
   "language": "python",
   "name": "python3"
  },
  "language_info": {
   "codemirror_mode": {
    "name": "ipython",
    "version": 3
   },
   "file_extension": ".py",
   "mimetype": "text/x-python",
   "name": "python",
   "nbconvert_exporter": "python",
   "pygments_lexer": "ipython3",
   "version": "3.7.16"
  },
  "orig_nbformat": 4,
  "vscode": {
   "interpreter": {
    "hash": "0f10c857460eb00aaf3bed792bc90611ed468f66b59dad46cde05215054a6d7b"
   }
  }
 },
 "nbformat": 4,
 "nbformat_minor": 2
}
