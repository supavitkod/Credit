{
 "cells": [
  {
   "cell_type": "code",
   "execution_count": 9,
   "metadata": {},
   "outputs": [],
   "source": [
    "import requests"
   ]
  },
  {
   "cell_type": "code",
   "execution_count": 10,
   "metadata": {},
   "outputs": [],
   "source": [
    "url = 'http://localhost:9696/predict'"
   ]
  },
  {
   "cell_type": "code",
   "execution_count": 11,
   "metadata": {},
   "outputs": [],
   "source": [
    "test = {\"Gender\": \"F\",\n",
    " \"Own_car\": \"Y\",\n",
    " \"Own_property\": \"Y\",\n",
    " \"Income_type\": \"Pensioner\",\n",
    " \"Education_level\": \"Secondary / secondary special\",\n",
    " \"Marital_status\": \"Married\",\n",
    " \"Way_of_living\": \"House / apartment\",\n",
    " \"Occupation\": \"Others\",\n",
    " \"Employment_status\": \"Unemployed\",\n",
    " \"Nbchildren\": 0,\n",
    " \"Total_income_per_year\": 126000000000000.0,\n",
    " \"Workphone\": 0,\n",
    " \"Phone\": 0,\n",
    " \"Email\": 1,\n",
    " \"Nbfamily_member\": 2.0,\n",
    " \"no_loan\": 0,\n",
    " \"Total_months_credit_registered\": 2,\n",
    " \"Delinquent_accounts\": 1,\n",
    " \"Ordinary_accounts\": 0,\n",
    " \"overall_pastdue\": 0,\n",
    " \"paid_pastdue_diff\": 2,\n",
    " \"Age\": 56,\n",
    " \"Experience\": -1001.0,\n",
    " \"Total_income_lifetime_employed\": -126126000.0,\n",
    " \"Working_year_proportion\": -17.875,\n",
    " \"Rand\": 1}"
   ]
  },
  {
   "cell_type": "code",
   "execution_count": 12,
   "metadata": {},
   "outputs": [
    {
     "data": {
      "text/plain": [
       "{'risk_proba': 0.02, 'risk': False}"
      ]
     },
     "execution_count": 12,
     "metadata": {},
     "output_type": "execute_result"
    }
   ],
   "source": [
    "requests.post(url, json= test).json()"
   ]
  }
 ],
 "metadata": {
  "kernelspec": {
   "display_name": "base",
   "language": "python",
   "name": "python3"
  },
  "language_info": {
   "codemirror_mode": {
    "name": "ipython",
    "version": 3
   },
   "file_extension": ".py",
   "mimetype": "text/x-python",
   "name": "python",
   "nbconvert_exporter": "python",
   "pygments_lexer": "ipython3",
   "version": "3.9.12"
  },
  "orig_nbformat": 4,
  "vscode": {
   "interpreter": {
    "hash": "c25caeda830d6fe3fd8e7536baf08dd060c14c886e57156813296a16be214938"
   }
  }
 },
 "nbformat": 4,
 "nbformat_minor": 2
}
